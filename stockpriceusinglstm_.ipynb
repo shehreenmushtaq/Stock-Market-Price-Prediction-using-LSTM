{
 "cells": [
  {
   "cell_type": "markdown",
   "id": "40c088d5",
   "metadata": {
    "id": "YGeI4smSNiWc",
    "papermill": {
     "duration": 0.014037,
     "end_time": "2022-11-25T18:15:03.049621",
     "exception": false,
     "start_time": "2022-11-25T18:15:03.035584",
     "status": "completed"
    },
    "tags": []
   },
   "source": [
    "## **Stock Market Price Using LSTM**\n",
    "\n",
    "In this notebook, we are predicting the stock market price using lstm on Microsoft and Apple data-set. The csv file is uploaded in the colab folder. \n"
   ]
  },
  {
   "cell_type": "markdown",
   "id": "c618610e",
   "metadata": {
    "id": "KjUQ4TB2QaoG",
    "papermill": {
     "duration": 0.013166,
     "end_time": "2022-11-25T18:15:03.074605",
     "exception": false,
     "start_time": "2022-11-25T18:15:03.061439",
     "status": "completed"
    },
    "tags": []
   },
   "source": [
    "### **Importing Libraries below**"
   ]
  },
  {
   "cell_type": "code",
   "execution_count": 1,
   "id": "4b98603c",
   "metadata": {
    "execution": {
     "iopub.execute_input": "2022-11-25T18:15:03.100037Z",
     "iopub.status.busy": "2022-11-25T18:15:03.099309Z",
     "iopub.status.idle": "2022-11-25T18:15:10.173046Z",
     "shell.execute_reply": "2022-11-25T18:15:10.171876Z"
    },
    "id": "eQ7QENffNhTZ",
    "papermill": {
     "duration": 7.089697,
     "end_time": "2022-11-25T18:15:10.176000",
     "exception": false,
     "start_time": "2022-11-25T18:15:03.086303",
     "status": "completed"
    },
    "tags": []
   },
   "outputs": [],
   "source": [
    "import pandas as pd\n",
    "import numpy as np\n",
    "%matplotlib inline\n",
    "import matplotlib.pyplot as plt\n",
    "import matplotlib\n",
    "from sklearn.preprocessing import MinMaxScaler\n",
    "from keras.layers import LSTM,Dense,Dropout\n",
    "from sklearn.model_selection import TimeSeriesSplit\n",
    "from sklearn.metrics import mean_squared_error, r2_score\n",
    "import matplotlib.dates as mdates\n",
    "from sklearn import linear_model"
   ]
  },
  {
   "cell_type": "markdown",
   "id": "0729124f",
   "metadata": {
    "id": "MfgoJQ4ZQgOr",
    "papermill": {
     "duration": 0.010863,
     "end_time": "2022-11-25T18:15:10.198488",
     "exception": false,
     "start_time": "2022-11-25T18:15:10.187625",
     "status": "completed"
    },
    "tags": []
   },
   "source": [
    "### **Reading the data-set from CSV file**\n",
    "Reading the data by parsing date means making data column as index as it is timeseries.  \n"
   ]
  },
  {
   "cell_type": "code",
   "execution_count": 2,
   "id": "65c057ac",
   "metadata": {
    "execution": {
     "iopub.execute_input": "2022-11-25T18:15:10.223177Z",
     "iopub.status.busy": "2022-11-25T18:15:10.222488Z",
     "iopub.status.idle": "2022-11-25T18:15:10.280650Z",
     "shell.execute_reply": "2022-11-25T18:15:10.279039Z"
    },
    "id": "XBbXF2hNNxeG",
    "outputId": "e609f4e7-d4ef-4cee-e9a2-454ef8a2f6de",
    "papermill": {
     "duration": 0.073982,
     "end_time": "2022-11-25T18:15:10.283726",
     "exception": false,
     "start_time": "2022-11-25T18:15:10.209744",
     "status": "completed"
    },
    "tags": []
   },
   "outputs": [],
   "source": [
    "# Microsoft Data-set\n",
    "df_final = pd.read_csv(\"/kaggle/input/msftcsv/MSFT.csv\",na_values=['null'],index_col='Date',parse_dates=True,infer_datetime_format=True) # reading the data\n",
    "# Apple Data-set\n",
    "#df_final = pd.read_csv(\"/kaggle/input/aaplcsv/AAPL.csv\",na_values=['null'],index_col='Date',parse_dates=True,infer_datetime_format=True) # reading the data"
   ]
  },
  {
   "cell_type": "code",
   "execution_count": 3,
   "id": "b76f96ed",
   "metadata": {
    "execution": {
     "iopub.execute_input": "2022-11-25T18:15:10.309082Z",
     "iopub.status.busy": "2022-11-25T18:15:10.308203Z",
     "iopub.status.idle": "2022-11-25T18:15:10.330528Z",
     "shell.execute_reply": "2022-11-25T18:15:10.329289Z"
    },
    "id": "iZMOG0LJOlxq",
    "papermill": {
     "duration": 0.038165,
     "end_time": "2022-11-25T18:15:10.333589",
     "exception": false,
     "start_time": "2022-11-25T18:15:10.295424",
     "status": "completed"
    },
    "tags": []
   },
   "outputs": [
    {
     "data": {
      "text/html": [
       "<div>\n",
       "<style scoped>\n",
       "    .dataframe tbody tr th:only-of-type {\n",
       "        vertical-align: middle;\n",
       "    }\n",
       "\n",
       "    .dataframe tbody tr th {\n",
       "        vertical-align: top;\n",
       "    }\n",
       "\n",
       "    .dataframe thead th {\n",
       "        text-align: right;\n",
       "    }\n",
       "</style>\n",
       "<table border=\"1\" class=\"dataframe\">\n",
       "  <thead>\n",
       "    <tr style=\"text-align: right;\">\n",
       "      <th></th>\n",
       "      <th>Open</th>\n",
       "      <th>High</th>\n",
       "      <th>Low</th>\n",
       "      <th>Close</th>\n",
       "      <th>Adj Close</th>\n",
       "      <th>Volume</th>\n",
       "    </tr>\n",
       "    <tr>\n",
       "      <th>Date</th>\n",
       "      <th></th>\n",
       "      <th></th>\n",
       "      <th></th>\n",
       "      <th></th>\n",
       "      <th></th>\n",
       "      <th></th>\n",
       "    </tr>\n",
       "  </thead>\n",
       "  <tbody>\n",
       "    <tr>\n",
       "      <th>1990-01-02</th>\n",
       "      <td>0.605903</td>\n",
       "      <td>0.616319</td>\n",
       "      <td>0.598090</td>\n",
       "      <td>0.616319</td>\n",
       "      <td>0.447268</td>\n",
       "      <td>53033600</td>\n",
       "    </tr>\n",
       "    <tr>\n",
       "      <th>1990-01-03</th>\n",
       "      <td>0.621528</td>\n",
       "      <td>0.626736</td>\n",
       "      <td>0.614583</td>\n",
       "      <td>0.619792</td>\n",
       "      <td>0.449788</td>\n",
       "      <td>113772800</td>\n",
       "    </tr>\n",
       "    <tr>\n",
       "      <th>1990-01-04</th>\n",
       "      <td>0.619792</td>\n",
       "      <td>0.638889</td>\n",
       "      <td>0.616319</td>\n",
       "      <td>0.638021</td>\n",
       "      <td>0.463017</td>\n",
       "      <td>125740800</td>\n",
       "    </tr>\n",
       "    <tr>\n",
       "      <th>1990-01-05</th>\n",
       "      <td>0.635417</td>\n",
       "      <td>0.638889</td>\n",
       "      <td>0.621528</td>\n",
       "      <td>0.622396</td>\n",
       "      <td>0.451678</td>\n",
       "      <td>69564800</td>\n",
       "    </tr>\n",
       "    <tr>\n",
       "      <th>1990-01-08</th>\n",
       "      <td>0.621528</td>\n",
       "      <td>0.631944</td>\n",
       "      <td>0.614583</td>\n",
       "      <td>0.631944</td>\n",
       "      <td>0.458607</td>\n",
       "      <td>58982400</td>\n",
       "    </tr>\n",
       "  </tbody>\n",
       "</table>\n",
       "</div>"
      ],
      "text/plain": [
       "                Open      High       Low     Close  Adj Close     Volume\n",
       "Date                                                                    \n",
       "1990-01-02  0.605903  0.616319  0.598090  0.616319   0.447268   53033600\n",
       "1990-01-03  0.621528  0.626736  0.614583  0.619792   0.449788  113772800\n",
       "1990-01-04  0.619792  0.638889  0.616319  0.638021   0.463017  125740800\n",
       "1990-01-05  0.635417  0.638889  0.621528  0.622396   0.451678   69564800\n",
       "1990-01-08  0.621528  0.631944  0.614583  0.631944   0.458607   58982400"
      ]
     },
     "execution_count": 3,
     "metadata": {},
     "output_type": "execute_result"
    }
   ],
   "source": [
    "df_final.head() # to check how our data looks like"
   ]
  },
  {
   "cell_type": "code",
   "execution_count": 4,
   "id": "e9c9540e",
   "metadata": {
    "execution": {
     "iopub.execute_input": "2022-11-25T18:15:10.359081Z",
     "iopub.status.busy": "2022-11-25T18:15:10.358453Z",
     "iopub.status.idle": "2022-11-25T18:15:10.365075Z",
     "shell.execute_reply": "2022-11-25T18:15:10.364214Z"
    },
    "id": "5zpnLDIkOsMq",
    "papermill": {
     "duration": 0.021655,
     "end_time": "2022-11-25T18:15:10.367150",
     "exception": false,
     "start_time": "2022-11-25T18:15:10.345495",
     "status": "completed"
    },
    "tags": []
   },
   "outputs": [
    {
     "data": {
      "text/plain": [
       "(7334, 6)"
      ]
     },
     "execution_count": 4,
     "metadata": {},
     "output_type": "execute_result"
    }
   ],
   "source": [
    "df_final.shape # to check the size of our columns and rows"
   ]
  },
  {
   "cell_type": "code",
   "execution_count": 5,
   "id": "f7a179ba",
   "metadata": {
    "execution": {
     "iopub.execute_input": "2022-11-25T18:15:10.392457Z",
     "iopub.status.busy": "2022-11-25T18:15:10.391800Z",
     "iopub.status.idle": "2022-11-25T18:15:10.427522Z",
     "shell.execute_reply": "2022-11-25T18:15:10.426319Z"
    },
    "id": "8xVwyrsEOugn",
    "papermill": {
     "duration": 0.051157,
     "end_time": "2022-11-25T18:15:10.429893",
     "exception": false,
     "start_time": "2022-11-25T18:15:10.378736",
     "status": "completed"
    },
    "tags": []
   },
   "outputs": [
    {
     "data": {
      "text/html": [
       "<div>\n",
       "<style scoped>\n",
       "    .dataframe tbody tr th:only-of-type {\n",
       "        vertical-align: middle;\n",
       "    }\n",
       "\n",
       "    .dataframe tbody tr th {\n",
       "        vertical-align: top;\n",
       "    }\n",
       "\n",
       "    .dataframe thead th {\n",
       "        text-align: right;\n",
       "    }\n",
       "</style>\n",
       "<table border=\"1\" class=\"dataframe\">\n",
       "  <thead>\n",
       "    <tr style=\"text-align: right;\">\n",
       "      <th></th>\n",
       "      <th>Open</th>\n",
       "      <th>High</th>\n",
       "      <th>Low</th>\n",
       "      <th>Close</th>\n",
       "      <th>Adj Close</th>\n",
       "      <th>Volume</th>\n",
       "    </tr>\n",
       "  </thead>\n",
       "  <tbody>\n",
       "    <tr>\n",
       "      <th>count</th>\n",
       "      <td>7334.000000</td>\n",
       "      <td>7334.000000</td>\n",
       "      <td>7334.000000</td>\n",
       "      <td>7334.000000</td>\n",
       "      <td>7334.000000</td>\n",
       "      <td>7.334000e+03</td>\n",
       "    </tr>\n",
       "    <tr>\n",
       "      <th>mean</th>\n",
       "      <td>28.578362</td>\n",
       "      <td>28.891892</td>\n",
       "      <td>28.261203</td>\n",
       "      <td>28.582426</td>\n",
       "      <td>24.008891</td>\n",
       "      <td>6.022760e+07</td>\n",
       "    </tr>\n",
       "    <tr>\n",
       "      <th>std</th>\n",
       "      <td>22.279033</td>\n",
       "      <td>22.476021</td>\n",
       "      <td>22.054379</td>\n",
       "      <td>22.275692</td>\n",
       "      <td>21.941225</td>\n",
       "      <td>3.400345e+07</td>\n",
       "    </tr>\n",
       "    <tr>\n",
       "      <th>min</th>\n",
       "      <td>0.591146</td>\n",
       "      <td>0.604167</td>\n",
       "      <td>0.583333</td>\n",
       "      <td>0.598090</td>\n",
       "      <td>0.434039</td>\n",
       "      <td>3.705600e+06</td>\n",
       "    </tr>\n",
       "    <tr>\n",
       "      <th>25%</th>\n",
       "      <td>12.457031</td>\n",
       "      <td>12.595703</td>\n",
       "      <td>12.261719</td>\n",
       "      <td>12.488281</td>\n",
       "      <td>9.062849</td>\n",
       "      <td>3.821840e+07</td>\n",
       "    </tr>\n",
       "    <tr>\n",
       "      <th>50%</th>\n",
       "      <td>26.980000</td>\n",
       "      <td>27.235000</td>\n",
       "      <td>26.730000</td>\n",
       "      <td>26.990000</td>\n",
       "      <td>20.431164</td>\n",
       "      <td>5.429885e+07</td>\n",
       "    </tr>\n",
       "    <tr>\n",
       "      <th>75%</th>\n",
       "      <td>34.716562</td>\n",
       "      <td>35.099998</td>\n",
       "      <td>34.250000</td>\n",
       "      <td>34.687500</td>\n",
       "      <td>26.993589</td>\n",
       "      <td>7.367888e+07</td>\n",
       "    </tr>\n",
       "    <tr>\n",
       "      <th>max</th>\n",
       "      <td>115.419998</td>\n",
       "      <td>116.180000</td>\n",
       "      <td>114.930000</td>\n",
       "      <td>115.610001</td>\n",
       "      <td>115.112709</td>\n",
       "      <td>7.645040e+08</td>\n",
       "    </tr>\n",
       "  </tbody>\n",
       "</table>\n",
       "</div>"
      ],
      "text/plain": [
       "              Open         High          Low        Close    Adj Close  \\\n",
       "count  7334.000000  7334.000000  7334.000000  7334.000000  7334.000000   \n",
       "mean     28.578362    28.891892    28.261203    28.582426    24.008891   \n",
       "std      22.279033    22.476021    22.054379    22.275692    21.941225   \n",
       "min       0.591146     0.604167     0.583333     0.598090     0.434039   \n",
       "25%      12.457031    12.595703    12.261719    12.488281     9.062849   \n",
       "50%      26.980000    27.235000    26.730000    26.990000    20.431164   \n",
       "75%      34.716562    35.099998    34.250000    34.687500    26.993589   \n",
       "max     115.419998   116.180000   114.930000   115.610001   115.112709   \n",
       "\n",
       "             Volume  \n",
       "count  7.334000e+03  \n",
       "mean   6.022760e+07  \n",
       "std    3.400345e+07  \n",
       "min    3.705600e+06  \n",
       "25%    3.821840e+07  \n",
       "50%    5.429885e+07  \n",
       "75%    7.367888e+07  \n",
       "max    7.645040e+08  "
      ]
     },
     "execution_count": 5,
     "metadata": {},
     "output_type": "execute_result"
    }
   ],
   "source": [
    "df_final.describe() # calculating mathematical expressions"
   ]
  },
  {
   "cell_type": "code",
   "execution_count": 6,
   "id": "c5aca794",
   "metadata": {
    "execution": {
     "iopub.execute_input": "2022-11-25T18:15:10.455321Z",
     "iopub.status.busy": "2022-11-25T18:15:10.454874Z",
     "iopub.status.idle": "2022-11-25T18:15:10.462518Z",
     "shell.execute_reply": "2022-11-25T18:15:10.461416Z"
    },
    "id": "p4Jx65eoOwq8",
    "papermill": {
     "duration": 0.023013,
     "end_time": "2022-11-25T18:15:10.464729",
     "exception": false,
     "start_time": "2022-11-25T18:15:10.441716",
     "status": "completed"
    },
    "tags": []
   },
   "outputs": [
    {
     "data": {
      "text/plain": [
       "False"
      ]
     },
     "execution_count": 6,
     "metadata": {},
     "output_type": "execute_result"
    }
   ],
   "source": [
    "df_final.isnull().values.any() # to check if there is any null or missing values in our data"
   ]
  },
  {
   "cell_type": "code",
   "execution_count": 7,
   "id": "f68f8f0b",
   "metadata": {
    "execution": {
     "iopub.execute_input": "2022-11-25T18:15:10.490480Z",
     "iopub.status.busy": "2022-11-25T18:15:10.490080Z",
     "iopub.status.idle": "2022-11-25T18:15:10.865015Z",
     "shell.execute_reply": "2022-11-25T18:15:10.863803Z"
    },
    "id": "1sRoJRHGOy_2",
    "papermill": {
     "duration": 0.390808,
     "end_time": "2022-11-25T18:15:10.867499",
     "exception": false,
     "start_time": "2022-11-25T18:15:10.476691",
     "status": "completed"
    },
    "tags": []
   },
   "outputs": [
    {
     "data": {
      "text/plain": [
       "<AxesSubplot:xlabel='Date'>"
      ]
     },
     "execution_count": 7,
     "metadata": {},
     "output_type": "execute_result"
    },
    {
     "data": {
      "image/png": "[encoded data removed]",
      "text/plain": [
       "<Figure size 432x288 with 1 Axes>"
      ]
     },
     "metadata": {
      "needs_background": "light"
     },
     "output_type": "display_data"
    }
   ],
   "source": [
    "df_final['Adj Close'].plot() # let's have a look how our close columns looks - we will be making prediction on this target "
   ]
  },
  {
   "cell_type": "code",
   "execution_count": 8,
   "id": "027f06cc",
   "metadata": {
    "execution": {
     "iopub.execute_input": "2022-11-25T18:15:10.894284Z",
     "iopub.status.busy": "2022-11-25T18:15:10.893859Z",
     "iopub.status.idle": "2022-11-25T18:15:10.901986Z",
     "shell.execute_reply": "2022-11-25T18:15:10.900702Z"
    },
    "id": "5uVaYZKiO1Kl",
    "papermill": {
     "duration": 0.02432,
     "end_time": "2022-11-25T18:15:10.904351",
     "exception": false,
     "start_time": "2022-11-25T18:15:10.880031",
     "status": "completed"
    },
    "tags": []
   },
   "outputs": [],
   "source": [
    "X=df_final.drop(['Adj Close'],axis=1) # dropping the target column from the data\n",
    "X=X.drop(['Close'],axis=1)"
   ]
  },
  {
   "cell_type": "markdown",
   "id": "2f748865",
   "metadata": {
    "id": "i2iMOfW0Rm7e",
    "papermill": {
     "duration": 0.012054,
     "end_time": "2022-11-25T18:15:10.928870",
     "exception": false,
     "start_time": "2022-11-25T18:15:10.916816",
     "status": "completed"
    },
    "tags": []
   },
   "source": [
    "### **Correlation Analysis**"
   ]
  },
  {
   "cell_type": "code",
   "execution_count": 9,
   "id": "f86d48d8",
   "metadata": {
    "execution": {
     "iopub.execute_input": "2022-11-25T18:15:10.955513Z",
     "iopub.status.busy": "2022-11-25T18:15:10.955073Z",
     "iopub.status.idle": "2022-11-25T18:15:11.214896Z",
     "shell.execute_reply": "2022-11-25T18:15:11.213795Z"
    },
    "id": "bm8VWJirO4C6",
    "papermill": {
     "duration": 0.276201,
     "end_time": "2022-11-25T18:15:11.217390",
     "exception": false,
     "start_time": "2022-11-25T18:15:10.941189",
     "status": "completed"
    },
    "tags": []
   },
   "outputs": [
    {
     "data": {
      "text/plain": [
       "<AxesSubplot:title={'center':'Correlation with Adj Close'}>"
      ]
     },
     "execution_count": 9,
     "metadata": {},
     "output_type": "execute_result"
    },
    {
     "data": {
      "image/png": "[encoded data removed]",
      "text/plain": [
       "<Figure size 1440x720 with 1 Axes>"
      ]
     },
     "metadata": {
      "needs_background": "light"
     },
     "output_type": "display_data"
    }
   ],
   "source": [
    "c = ['blue', 'orange', 'red', 'black', 'orange']\n",
    "X.corrwith(df_final['Adj Close']).plot.bar(\n",
    "        figsize = (20, 10), title = \"Correlation with Adj Close\", fontsize = 20,\n",
    "        rot = 90, grid = True, color = c)"
   ]
  },
  {
   "cell_type": "code",
   "execution_count": 10,
   "id": "b1f792a5",
   "metadata": {
    "execution": {
     "iopub.execute_input": "2022-11-25T18:15:11.245372Z",
     "iopub.status.busy": "2022-11-25T18:15:11.244914Z",
     "iopub.status.idle": "2022-11-25T18:15:11.262309Z",
     "shell.execute_reply": "2022-11-25T18:15:11.261340Z"
    },
    "id": "ttAG0EqXO8Jc",
    "papermill": {
     "duration": 0.034095,
     "end_time": "2022-11-25T18:15:11.264731",
     "exception": false,
     "start_time": "2022-11-25T18:15:11.230636",
     "status": "completed"
    },
    "tags": []
   },
   "outputs": [
    {
     "data": {
      "text/html": [
       "<div>\n",
       "<style scoped>\n",
       "    .dataframe tbody tr th:only-of-type {\n",
       "        vertical-align: middle;\n",
       "    }\n",
       "\n",
       "    .dataframe tbody tr th {\n",
       "        vertical-align: top;\n",
       "    }\n",
       "\n",
       "    .dataframe thead th {\n",
       "        text-align: right;\n",
       "    }\n",
       "</style>\n",
       "<table border=\"1\" class=\"dataframe\">\n",
       "  <thead>\n",
       "    <tr style=\"text-align: right;\">\n",
       "      <th></th>\n",
       "      <th>Open</th>\n",
       "      <th>High</th>\n",
       "      <th>Low</th>\n",
       "      <th>Close</th>\n",
       "      <th>Adj Close</th>\n",
       "      <th>Volume</th>\n",
       "    </tr>\n",
       "    <tr>\n",
       "      <th>Date</th>\n",
       "      <th></th>\n",
       "      <th></th>\n",
       "      <th></th>\n",
       "      <th></th>\n",
       "      <th></th>\n",
       "      <th></th>\n",
       "    </tr>\n",
       "  </thead>\n",
       "  <tbody>\n",
       "    <tr>\n",
       "      <th>1990-01-02</th>\n",
       "      <td>0.605903</td>\n",
       "      <td>0.616319</td>\n",
       "      <td>0.598090</td>\n",
       "      <td>0.616319</td>\n",
       "      <td>0.447268</td>\n",
       "      <td>53033600</td>\n",
       "    </tr>\n",
       "    <tr>\n",
       "      <th>1990-01-03</th>\n",
       "      <td>0.621528</td>\n",
       "      <td>0.626736</td>\n",
       "      <td>0.614583</td>\n",
       "      <td>0.619792</td>\n",
       "      <td>0.449788</td>\n",
       "      <td>113772800</td>\n",
       "    </tr>\n",
       "    <tr>\n",
       "      <th>1990-01-04</th>\n",
       "      <td>0.619792</td>\n",
       "      <td>0.638889</td>\n",
       "      <td>0.616319</td>\n",
       "      <td>0.638021</td>\n",
       "      <td>0.463017</td>\n",
       "      <td>125740800</td>\n",
       "    </tr>\n",
       "    <tr>\n",
       "      <th>1990-01-05</th>\n",
       "      <td>0.635417</td>\n",
       "      <td>0.638889</td>\n",
       "      <td>0.621528</td>\n",
       "      <td>0.622396</td>\n",
       "      <td>0.451678</td>\n",
       "      <td>69564800</td>\n",
       "    </tr>\n",
       "    <tr>\n",
       "      <th>1990-01-08</th>\n",
       "      <td>0.621528</td>\n",
       "      <td>0.631944</td>\n",
       "      <td>0.614583</td>\n",
       "      <td>0.631944</td>\n",
       "      <td>0.458607</td>\n",
       "      <td>58982400</td>\n",
       "    </tr>\n",
       "  </tbody>\n",
       "</table>\n",
       "</div>"
      ],
      "text/plain": [
       "                Open      High       Low     Close  Adj Close     Volume\n",
       "Date                                                                    \n",
       "1990-01-02  0.605903  0.616319  0.598090  0.616319   0.447268   53033600\n",
       "1990-01-03  0.621528  0.626736  0.614583  0.619792   0.449788  113772800\n",
       "1990-01-04  0.619792  0.638889  0.616319  0.638021   0.463017  125740800\n",
       "1990-01-05  0.635417  0.638889  0.621528  0.622396   0.451678   69564800\n",
       "1990-01-08  0.621528  0.631944  0.614583  0.631944   0.458607   58982400"
      ]
     },
     "metadata": {},
     "output_type": "display_data"
    }
   ],
   "source": [
    "test = df_final\n",
    "# Target column\n",
    "target_adj_close = pd.DataFrame(test['Adj Close'])\n",
    "display(test.head()) # checking the test data"
   ]
  },
  {
   "cell_type": "code",
   "execution_count": 11,
   "id": "7a81df97",
   "metadata": {
    "execution": {
     "iopub.execute_input": "2022-11-25T18:15:11.292589Z",
     "iopub.status.busy": "2022-11-25T18:15:11.292144Z",
     "iopub.status.idle": "2022-11-25T18:15:11.297257Z",
     "shell.execute_reply": "2022-11-25T18:15:11.296004Z"
    },
    "id": "JAosek4QO-VN",
    "papermill": {
     "duration": 0.021894,
     "end_time": "2022-11-25T18:15:11.299634",
     "exception": false,
     "start_time": "2022-11-25T18:15:11.277740",
     "status": "completed"
    },
    "tags": []
   },
   "outputs": [],
   "source": [
    "# selecting Feature Columns\n",
    "feature_columns = ['Open', 'High', 'Low', 'Volume']"
   ]
  },
  {
   "cell_type": "markdown",
   "id": "d0008c54",
   "metadata": {
    "id": "4ixwA-yMR_9B",
    "papermill": {
     "duration": 0.01326,
     "end_time": "2022-11-25T18:15:11.326143",
     "exception": false,
     "start_time": "2022-11-25T18:15:11.312883",
     "status": "completed"
    },
    "tags": []
   },
   "source": [
    "### **Normalizing the data**"
   ]
  },
  {
   "cell_type": "code",
   "execution_count": 12,
   "id": "dcfdc92f",
   "metadata": {
    "execution": {
     "iopub.execute_input": "2022-11-25T18:15:11.354656Z",
     "iopub.status.busy": "2022-11-25T18:15:11.354249Z",
     "iopub.status.idle": "2022-11-25T18:15:11.374431Z",
     "shell.execute_reply": "2022-11-25T18:15:11.373045Z"
    },
    "id": "F4xhx_wCPAwq",
    "papermill": {
     "duration": 0.037415,
     "end_time": "2022-11-25T18:15:11.377186",
     "exception": false,
     "start_time": "2022-11-25T18:15:11.339771",
     "status": "completed"
    },
    "tags": []
   },
   "outputs": [
    {
     "data": {
      "text/html": [
       "<div>\n",
       "<style scoped>\n",
       "    .dataframe tbody tr th:only-of-type {\n",
       "        vertical-align: middle;\n",
       "    }\n",
       "\n",
       "    .dataframe tbody tr th {\n",
       "        vertical-align: top;\n",
       "    }\n",
       "\n",
       "    .dataframe thead th {\n",
       "        text-align: right;\n",
       "    }\n",
       "</style>\n",
       "<table border=\"1\" class=\"dataframe\">\n",
       "  <thead>\n",
       "    <tr style=\"text-align: right;\">\n",
       "      <th></th>\n",
       "      <th>Open</th>\n",
       "      <th>High</th>\n",
       "      <th>Low</th>\n",
       "      <th>Volume</th>\n",
       "    </tr>\n",
       "    <tr>\n",
       "      <th>Date</th>\n",
       "      <th></th>\n",
       "      <th></th>\n",
       "      <th></th>\n",
       "      <th></th>\n",
       "    </tr>\n",
       "  </thead>\n",
       "  <tbody>\n",
       "    <tr>\n",
       "      <th>1990-01-02</th>\n",
       "      <td>0.000129</td>\n",
       "      <td>0.000105</td>\n",
       "      <td>0.000129</td>\n",
       "      <td>0.064837</td>\n",
       "    </tr>\n",
       "    <tr>\n",
       "      <th>1990-01-03</th>\n",
       "      <td>0.000265</td>\n",
       "      <td>0.000195</td>\n",
       "      <td>0.000273</td>\n",
       "      <td>0.144673</td>\n",
       "    </tr>\n",
       "    <tr>\n",
       "      <th>1990-01-04</th>\n",
       "      <td>0.000249</td>\n",
       "      <td>0.000300</td>\n",
       "      <td>0.000288</td>\n",
       "      <td>0.160404</td>\n",
       "    </tr>\n",
       "    <tr>\n",
       "      <th>1990-01-05</th>\n",
       "      <td>0.000386</td>\n",
       "      <td>0.000300</td>\n",
       "      <td>0.000334</td>\n",
       "      <td>0.086566</td>\n",
       "    </tr>\n",
       "    <tr>\n",
       "      <th>1990-01-08</th>\n",
       "      <td>0.000265</td>\n",
       "      <td>0.000240</td>\n",
       "      <td>0.000273</td>\n",
       "      <td>0.072656</td>\n",
       "    </tr>\n",
       "  </tbody>\n",
       "</table>\n",
       "</div>"
      ],
      "text/plain": [
       "                Open      High       Low    Volume\n",
       "Date                                              \n",
       "1990-01-02  0.000129  0.000105  0.000129  0.064837\n",
       "1990-01-03  0.000265  0.000195  0.000273  0.144673\n",
       "1990-01-04  0.000249  0.000300  0.000288  0.160404\n",
       "1990-01-05  0.000386  0.000300  0.000334  0.086566\n",
       "1990-01-08  0.000265  0.000240  0.000273  0.072656"
      ]
     },
     "execution_count": 12,
     "metadata": {},
     "output_type": "execute_result"
    }
   ],
   "source": [
    "from sklearn.preprocessing import MinMaxScaler\n",
    "scaler = MinMaxScaler()\n",
    "feature_minmax_transform_data = scaler.fit_transform(test[feature_columns])\n",
    "feature_minmax_transform = pd.DataFrame(columns=feature_columns, data=feature_minmax_transform_data, index=test.index)\n",
    "feature_minmax_transform.head()"
   ]
  },
  {
   "cell_type": "code",
   "execution_count": 13,
   "id": "22fc1b3a",
   "metadata": {
    "execution": {
     "iopub.execute_input": "2022-11-25T18:15:11.406149Z",
     "iopub.status.busy": "2022-11-25T18:15:11.405727Z",
     "iopub.status.idle": "2022-11-25T18:15:11.442562Z",
     "shell.execute_reply": "2022-11-25T18:15:11.441011Z"
    },
    "id": "Wr4_2vAaPDoD",
    "papermill": {
     "duration": 0.054483,
     "end_time": "2022-11-25T18:15:11.445312",
     "exception": false,
     "start_time": "2022-11-25T18:15:11.390829",
     "status": "completed"
    },
    "tags": []
   },
   "outputs": [
    {
     "data": {
      "text/html": [
       "<div>\n",
       "<style scoped>\n",
       "    .dataframe tbody tr th:only-of-type {\n",
       "        vertical-align: middle;\n",
       "    }\n",
       "\n",
       "    .dataframe tbody tr th {\n",
       "        vertical-align: top;\n",
       "    }\n",
       "\n",
       "    .dataframe thead th {\n",
       "        text-align: right;\n",
       "    }\n",
       "</style>\n",
       "<table border=\"1\" class=\"dataframe\">\n",
       "  <thead>\n",
       "    <tr style=\"text-align: right;\">\n",
       "      <th></th>\n",
       "      <th>Open</th>\n",
       "      <th>High</th>\n",
       "      <th>Low</th>\n",
       "      <th>Volume</th>\n",
       "    </tr>\n",
       "    <tr>\n",
       "      <th>Date</th>\n",
       "      <th></th>\n",
       "      <th></th>\n",
       "      <th></th>\n",
       "      <th></th>\n",
       "    </tr>\n",
       "  </thead>\n",
       "  <tbody>\n",
       "    <tr>\n",
       "      <th>1990-01-02</th>\n",
       "      <td>0.000129</td>\n",
       "      <td>0.000105</td>\n",
       "      <td>0.000129</td>\n",
       "      <td>0.064837</td>\n",
       "    </tr>\n",
       "    <tr>\n",
       "      <th>1990-01-03</th>\n",
       "      <td>0.000265</td>\n",
       "      <td>0.000195</td>\n",
       "      <td>0.000273</td>\n",
       "      <td>0.144673</td>\n",
       "    </tr>\n",
       "    <tr>\n",
       "      <th>1990-01-04</th>\n",
       "      <td>0.000249</td>\n",
       "      <td>0.000300</td>\n",
       "      <td>0.000288</td>\n",
       "      <td>0.160404</td>\n",
       "    </tr>\n",
       "    <tr>\n",
       "      <th>1990-01-05</th>\n",
       "      <td>0.000386</td>\n",
       "      <td>0.000300</td>\n",
       "      <td>0.000334</td>\n",
       "      <td>0.086566</td>\n",
       "    </tr>\n",
       "    <tr>\n",
       "      <th>1990-01-08</th>\n",
       "      <td>0.000265</td>\n",
       "      <td>0.000240</td>\n",
       "      <td>0.000273</td>\n",
       "      <td>0.072656</td>\n",
       "    </tr>\n",
       "  </tbody>\n",
       "</table>\n",
       "</div>"
      ],
      "text/plain": [
       "                Open      High       Low    Volume\n",
       "Date                                              \n",
       "1990-01-02  0.000129  0.000105  0.000129  0.064837\n",
       "1990-01-03  0.000265  0.000195  0.000273  0.144673\n",
       "1990-01-04  0.000249  0.000300  0.000288  0.160404\n",
       "1990-01-05  0.000386  0.000300  0.000334  0.086566\n",
       "1990-01-08  0.000265  0.000240  0.000273  0.072656"
      ]
     },
     "metadata": {},
     "output_type": "display_data"
    },
    {
     "name": "stdout",
     "output_type": "stream",
     "text": [
      "Shape of features :  (7334, 4)\n",
      "Shape of target :  (7334, 1)\n"
     ]
    },
    {
     "data": {
      "text/html": [
       "<div>\n",
       "<style scoped>\n",
       "    .dataframe tbody tr th:only-of-type {\n",
       "        vertical-align: middle;\n",
       "    }\n",
       "\n",
       "    .dataframe tbody tr th {\n",
       "        vertical-align: top;\n",
       "    }\n",
       "\n",
       "    .dataframe thead th {\n",
       "        text-align: right;\n",
       "    }\n",
       "</style>\n",
       "<table border=\"1\" class=\"dataframe\">\n",
       "  <thead>\n",
       "    <tr style=\"text-align: right;\">\n",
       "      <th></th>\n",
       "      <th>Open</th>\n",
       "      <th>High</th>\n",
       "      <th>Low</th>\n",
       "      <th>Volume</th>\n",
       "    </tr>\n",
       "    <tr>\n",
       "      <th>Date</th>\n",
       "      <th></th>\n",
       "      <th></th>\n",
       "      <th></th>\n",
       "      <th></th>\n",
       "    </tr>\n",
       "  </thead>\n",
       "  <tbody>\n",
       "    <tr>\n",
       "      <th>2019-02-01</th>\n",
       "      <td>0.898632</td>\n",
       "      <td>0.895480</td>\n",
       "      <td>0.889984</td>\n",
       "      <td>0.041838</td>\n",
       "    </tr>\n",
       "    <tr>\n",
       "      <th>2019-02-04</th>\n",
       "      <td>0.890707</td>\n",
       "      <td>0.910189</td>\n",
       "      <td>0.893657</td>\n",
       "      <td>0.036290</td>\n",
       "    </tr>\n",
       "    <tr>\n",
       "      <th>2019-02-05</th>\n",
       "      <td>0.918487</td>\n",
       "      <td>0.922908</td>\n",
       "      <td>0.921554</td>\n",
       "      <td>0.031046</td>\n",
       "    </tr>\n",
       "    <tr>\n",
       "      <th>2019-02-06</th>\n",
       "      <td>0.926673</td>\n",
       "      <td>0.920572</td>\n",
       "      <td>0.917794</td>\n",
       "      <td>0.022219</td>\n",
       "    </tr>\n",
       "    <tr>\n",
       "      <th>2019-02-07</th>\n",
       "      <td>0.910911</td>\n",
       "      <td>0.908372</td>\n",
       "      <td>0.906950</td>\n",
       "      <td>0.034247</td>\n",
       "    </tr>\n",
       "  </tbody>\n",
       "</table>\n",
       "</div>"
      ],
      "text/plain": [
       "                Open      High       Low    Volume\n",
       "Date                                              \n",
       "2019-02-01  0.898632  0.895480  0.889984  0.041838\n",
       "2019-02-04  0.890707  0.910189  0.893657  0.036290\n",
       "2019-02-05  0.918487  0.922908  0.921554  0.031046\n",
       "2019-02-06  0.926673  0.920572  0.917794  0.022219\n",
       "2019-02-07  0.910911  0.908372  0.906950  0.034247"
      ]
     },
     "metadata": {},
     "output_type": "display_data"
    },
    {
     "data": {
      "text/html": [
       "<div>\n",
       "<style scoped>\n",
       "    .dataframe tbody tr th:only-of-type {\n",
       "        vertical-align: middle;\n",
       "    }\n",
       "\n",
       "    .dataframe tbody tr th {\n",
       "        vertical-align: top;\n",
       "    }\n",
       "\n",
       "    .dataframe thead th {\n",
       "        text-align: right;\n",
       "    }\n",
       "</style>\n",
       "<table border=\"1\" class=\"dataframe\">\n",
       "  <thead>\n",
       "    <tr style=\"text-align: right;\">\n",
       "      <th></th>\n",
       "      <th>Adj Close</th>\n",
       "    </tr>\n",
       "    <tr>\n",
       "      <th>Date</th>\n",
       "      <th></th>\n",
       "    </tr>\n",
       "  </thead>\n",
       "  <tbody>\n",
       "    <tr>\n",
       "      <th>2019-02-01</th>\n",
       "      <td>105.739998</td>\n",
       "    </tr>\n",
       "    <tr>\n",
       "      <th>2019-02-04</th>\n",
       "      <td>107.220001</td>\n",
       "    </tr>\n",
       "    <tr>\n",
       "      <th>2019-02-05</th>\n",
       "      <td>106.029999</td>\n",
       "    </tr>\n",
       "    <tr>\n",
       "      <th>2019-02-06</th>\n",
       "      <td>105.269997</td>\n",
       "    </tr>\n",
       "    <tr>\n",
       "      <th>2019-02-07</th>\n",
       "      <td>105.669998</td>\n",
       "    </tr>\n",
       "  </tbody>\n",
       "</table>\n",
       "</div>"
      ],
      "text/plain": [
       "             Adj Close\n",
       "Date                  \n",
       "2019-02-01  105.739998\n",
       "2019-02-04  107.220001\n",
       "2019-02-05  106.029999\n",
       "2019-02-06  105.269997\n",
       "2019-02-07  105.669998"
      ]
     },
     "metadata": {},
     "output_type": "display_data"
    },
    {
     "name": "stdout",
     "output_type": "stream",
     "text": [
      "\n",
      " -----After process------ \n",
      "\n",
      "Shape of features :  (7244, 4)\n",
      "Shape of target :  (7244, 1)\n"
     ]
    },
    {
     "data": {
      "text/html": [
       "<div>\n",
       "<style scoped>\n",
       "    .dataframe tbody tr th:only-of-type {\n",
       "        vertical-align: middle;\n",
       "    }\n",
       "\n",
       "    .dataframe tbody tr th {\n",
       "        vertical-align: top;\n",
       "    }\n",
       "\n",
       "    .dataframe thead th {\n",
       "        text-align: right;\n",
       "    }\n",
       "</style>\n",
       "<table border=\"1\" class=\"dataframe\">\n",
       "  <thead>\n",
       "    <tr style=\"text-align: right;\">\n",
       "      <th></th>\n",
       "      <th>Adj Close</th>\n",
       "    </tr>\n",
       "    <tr>\n",
       "      <th>Date</th>\n",
       "      <th></th>\n",
       "    </tr>\n",
       "  </thead>\n",
       "  <tbody>\n",
       "    <tr>\n",
       "      <th>2018-09-24</th>\n",
       "      <td>113.957695</td>\n",
       "    </tr>\n",
       "    <tr>\n",
       "      <th>2018-09-25</th>\n",
       "      <td>113.489723</td>\n",
       "    </tr>\n",
       "    <tr>\n",
       "      <th>2018-09-26</th>\n",
       "      <td>113.917870</td>\n",
       "    </tr>\n",
       "    <tr>\n",
       "      <th>2018-09-27</th>\n",
       "      <td>113.878044</td>\n",
       "    </tr>\n",
       "    <tr>\n",
       "      <th>2018-09-28</th>\n",
       "      <td>115.112709</td>\n",
       "    </tr>\n",
       "  </tbody>\n",
       "</table>\n",
       "</div>"
      ],
      "text/plain": [
       "             Adj Close\n",
       "Date                  \n",
       "2018-09-24  113.957695\n",
       "2018-09-25  113.489723\n",
       "2018-09-26  113.917870\n",
       "2018-09-27  113.878044\n",
       "2018-09-28  115.112709"
      ]
     },
     "metadata": {},
     "output_type": "display_data"
    }
   ],
   "source": [
    "display(feature_minmax_transform.head())\n",
    "print('Shape of features : ', feature_minmax_transform.shape)\n",
    "print('Shape of target : ', target_adj_close.shape)\n",
    "\n",
    "# Shift target array because we want to predict the n + 1 day value\n",
    "\n",
    "\n",
    "target_adj_close = target_adj_close.shift(-1)\n",
    "validation_y = target_adj_close[-90:-1]\n",
    "target_adj_close = target_adj_close[:-90]\n",
    "\n",
    "# Taking last 90 rows of data to be validation set\n",
    "validation_X = feature_minmax_transform[-90:-1]\n",
    "feature_minmax_transform = feature_minmax_transform[:-90]\n",
    "display(validation_X.tail())\n",
    "display(validation_y.tail())\n",
    "\n",
    "print(\"\\n -----After process------ \\n\")\n",
    "print('Shape of features : ', feature_minmax_transform.shape)\n",
    "print('Shape of target : ', target_adj_close.shape)\n",
    "display(target_adj_close.tail())"
   ]
  },
  {
   "cell_type": "markdown",
   "id": "160bba82",
   "metadata": {
    "id": "kIB3I2t_SWDy",
    "papermill": {
     "duration": 0.013669,
     "end_time": "2022-11-25T18:15:11.473795",
     "exception": false,
     "start_time": "2022-11-25T18:15:11.460126",
     "status": "completed"
    },
    "tags": []
   },
   "source": [
    "### **Train test split using Timeseriessplit**"
   ]
  },
  {
   "cell_type": "code",
   "execution_count": 14,
   "id": "42a5f482",
   "metadata": {
    "execution": {
     "iopub.execute_input": "2022-11-25T18:15:11.504742Z",
     "iopub.status.busy": "2022-11-25T18:15:11.504171Z",
     "iopub.status.idle": "2022-11-25T18:15:11.513642Z",
     "shell.execute_reply": "2022-11-25T18:15:11.512491Z"
    },
    "id": "JKt0HmwZPG1U",
    "papermill": {
     "duration": 0.028218,
     "end_time": "2022-11-25T18:15:11.515978",
     "exception": false,
     "start_time": "2022-11-25T18:15:11.487760",
     "status": "completed"
    },
    "tags": []
   },
   "outputs": [],
   "source": [
    "# train test Split using Timeseriessplit\n",
    "ts_split= TimeSeriesSplit(n_splits=10)\n",
    "for train_index, test_index in ts_split.split(feature_minmax_transform):\n",
    "        X_train, X_test = feature_minmax_transform[:len(train_index)], feature_minmax_transform[len(train_index): (len(train_index)+len(test_index))]\n",
    "        y_train, y_test = target_adj_close[:len(train_index)].values.ravel(), target_adj_close[len(train_index): (len(train_index)+len(test_index))].values.ravel()\n"
   ]
  },
  {
   "cell_type": "code",
   "execution_count": 15,
   "id": "16f89e5b",
   "metadata": {
    "execution": {
     "iopub.execute_input": "2022-11-25T18:15:11.547885Z",
     "iopub.status.busy": "2022-11-25T18:15:11.547485Z",
     "iopub.status.idle": "2022-11-25T18:15:11.555103Z",
     "shell.execute_reply": "2022-11-25T18:15:11.553909Z"
    },
    "id": "5OUQzLszPI8J",
    "papermill": {
     "duration": 0.025798,
     "end_time": "2022-11-25T18:15:11.557303",
     "exception": false,
     "start_time": "2022-11-25T18:15:11.531505",
     "status": "completed"
    },
    "tags": []
   },
   "outputs": [
    {
     "data": {
      "text/plain": [
       "(6586, 4)"
      ]
     },
     "execution_count": 15,
     "metadata": {},
     "output_type": "execute_result"
    }
   ],
   "source": [
    "X_train.shape"
   ]
  },
  {
   "cell_type": "code",
   "execution_count": 16,
   "id": "93816221",
   "metadata": {
    "execution": {
     "iopub.execute_input": "2022-11-25T18:15:11.587174Z",
     "iopub.status.busy": "2022-11-25T18:15:11.586780Z",
     "iopub.status.idle": "2022-11-25T18:15:11.594164Z",
     "shell.execute_reply": "2022-11-25T18:15:11.593028Z"
    },
    "id": "x5QVXSKSPKkw",
    "papermill": {
     "duration": 0.025097,
     "end_time": "2022-11-25T18:15:11.596565",
     "exception": false,
     "start_time": "2022-11-25T18:15:11.571468",
     "status": "completed"
    },
    "tags": []
   },
   "outputs": [
    {
     "data": {
      "text/plain": [
       "(658, 4)"
      ]
     },
     "execution_count": 16,
     "metadata": {},
     "output_type": "execute_result"
    }
   ],
   "source": [
    "X_test.shape"
   ]
  },
  {
   "cell_type": "code",
   "execution_count": 17,
   "id": "0b5f361a",
   "metadata": {
    "execution": {
     "iopub.execute_input": "2022-11-25T18:15:11.627667Z",
     "iopub.status.busy": "2022-11-25T18:15:11.627260Z",
     "iopub.status.idle": "2022-11-25T18:15:11.634780Z",
     "shell.execute_reply": "2022-11-25T18:15:11.633528Z"
    },
    "id": "vfNbrw0SPKqz",
    "papermill": {
     "duration": 0.026014,
     "end_time": "2022-11-25T18:15:11.637021",
     "exception": false,
     "start_time": "2022-11-25T18:15:11.611007",
     "status": "completed"
    },
    "tags": []
   },
   "outputs": [
    {
     "data": {
      "text/plain": [
       "(6586,)"
      ]
     },
     "execution_count": 17,
     "metadata": {},
     "output_type": "execute_result"
    }
   ],
   "source": [
    "y_train.shape"
   ]
  },
  {
   "cell_type": "code",
   "execution_count": 18,
   "id": "b0b78fa5",
   "metadata": {
    "execution": {
     "iopub.execute_input": "2022-11-25T18:15:11.668154Z",
     "iopub.status.busy": "2022-11-25T18:15:11.667736Z",
     "iopub.status.idle": "2022-11-25T18:15:11.675147Z",
     "shell.execute_reply": "2022-11-25T18:15:11.673992Z"
    },
    "id": "EaRTJjt-POhB",
    "papermill": {
     "duration": 0.025451,
     "end_time": "2022-11-25T18:15:11.677379",
     "exception": false,
     "start_time": "2022-11-25T18:15:11.651928",
     "status": "completed"
    },
    "tags": []
   },
   "outputs": [
    {
     "data": {
      "text/plain": [
       "(658,)"
      ]
     },
     "execution_count": 18,
     "metadata": {},
     "output_type": "execute_result"
    }
   ],
   "source": [
    "y_test.shape"
   ]
  },
  {
   "cell_type": "code",
   "execution_count": 19,
   "id": "a7c1fcbe",
   "metadata": {
    "execution": {
     "iopub.execute_input": "2022-11-25T18:15:11.708435Z",
     "iopub.status.busy": "2022-11-25T18:15:11.708024Z",
     "iopub.status.idle": "2022-11-25T18:15:11.716429Z",
     "shell.execute_reply": "2022-11-25T18:15:11.715156Z"
    },
    "id": "1MzI-nCSPQbW",
    "papermill": {
     "duration": 0.026997,
     "end_time": "2022-11-25T18:15:11.718678",
     "exception": false,
     "start_time": "2022-11-25T18:15:11.691681",
     "status": "completed"
    },
    "tags": []
   },
   "outputs": [],
   "source": [
    "def validate_result(model, model_name):\n",
    "    predicted = model.predict(validation_X)\n",
    "    RSME_score = np.sqrt(mean_squared_error(validation_y, predicted))\n",
    "    print('RMSE: ', RSME_score)\n",
    "    \n",
    "    R2_score = r2_score(validation_y, predicted)\n",
    "    print('R2 score: ', R2_score)\n",
    "\n",
    "    plt.plot(validation_y.index, predicted,'r', label='Predict')\n",
    "    plt.plot(validation_y.index, validation_y,'b', label='Actual')\n",
    "    plt.ylabel('Price')\n",
    "    plt.gca().xaxis.set_major_formatter(mdates.DateFormatter('%Y-%m-%d'))\n",
    "    plt.gca().xaxis.set_major_locator(mdates.MonthLocator())\n",
    "    plt.title(model_name + ' Predict vs Actual')\n",
    "    plt.legend(loc='upper right')\n",
    "    plt.show()"
   ]
  },
  {
   "cell_type": "markdown",
   "id": "559202a8",
   "metadata": {
    "id": "-kKjZHxYSg87",
    "papermill": {
     "duration": 0.013933,
     "end_time": "2022-11-25T18:15:11.747057",
     "exception": false,
     "start_time": "2022-11-25T18:15:11.733124",
     "status": "completed"
    },
    "tags": []
   },
   "source": [
    "### **Benchmark Model**"
   ]
  },
  {
   "cell_type": "markdown",
   "id": "011b137d",
   "metadata": {
    "papermill": {
     "duration": 0.014056,
     "end_time": "2022-11-25T18:15:11.775690",
     "exception": false,
     "start_time": "2022-11-25T18:15:11.761634",
     "status": "completed"
    },
    "tags": []
   },
   "source": [
    "**Decision Tree Regressor**"
   ]
  },
  {
   "cell_type": "code",
   "execution_count": 20,
   "id": "a85c5b3c",
   "metadata": {
    "execution": {
     "iopub.execute_input": "2022-11-25T18:15:11.806645Z",
     "iopub.status.busy": "2022-11-25T18:15:11.806240Z",
     "iopub.status.idle": "2022-11-25T18:15:12.083165Z",
     "shell.execute_reply": "2022-11-25T18:15:12.081953Z"
    },
    "id": "-hIA7fquPSZQ",
    "papermill": {
     "duration": 0.295477,
     "end_time": "2022-11-25T18:15:12.085520",
     "exception": false,
     "start_time": "2022-11-25T18:15:11.790043",
     "status": "completed"
    },
    "tags": []
   },
   "outputs": [
    {
     "name": "stdout",
     "output_type": "stream",
     "text": [
      "RMSE:  64.22105109555618\n",
      "R2 score:  -304.3934023786509\n"
     ]
    },
    {
     "data": {
      "image/png": "[encoded data removed]",
      "text/plain": [
       "<Figure size 432x288 with 1 Axes>"
      ]
     },
     "metadata": {
      "needs_background": "light"
     },
     "output_type": "display_data"
    }
   ],
   "source": [
    "from sklearn.tree import DecisionTreeRegressor\n",
    "\n",
    "dt = DecisionTreeRegressor(random_state=0)\n",
    "\n",
    "benchmark_dt=dt.fit(X_train, y_train)\n",
    "\n",
    "validate_result(benchmark_dt, 'Decision Tree Regression')"
   ]
  },
  {
   "cell_type": "markdown",
   "id": "cb8222a6",
   "metadata": {
    "papermill": {
     "duration": 0.014489,
     "end_time": "2022-11-25T18:15:12.115096",
     "exception": false,
     "start_time": "2022-11-25T18:15:12.100607",
     "status": "completed"
    },
    "tags": []
   },
   "source": [
    "## **LSTM Implementation**"
   ]
  },
  {
   "cell_type": "markdown",
   "id": "e1045367",
   "metadata": {
    "id": "3SgjxADMSlgX",
    "papermill": {
     "duration": 0.014412,
     "end_time": "2022-11-25T18:15:12.144449",
     "exception": false,
     "start_time": "2022-11-25T18:15:12.130037",
     "status": "completed"
    },
    "tags": []
   },
   "source": [
    "### **Data-Processing for LSTM**"
   ]
  },
  {
   "cell_type": "code",
   "execution_count": 21,
   "id": "fcde8322",
   "metadata": {
    "execution": {
     "iopub.execute_input": "2022-11-25T18:15:12.176239Z",
     "iopub.status.busy": "2022-11-25T18:15:12.175562Z",
     "iopub.status.idle": "2022-11-25T18:15:12.181900Z",
     "shell.execute_reply": "2022-11-25T18:15:12.181036Z"
    },
    "id": "GeM4fnCMPUjl",
    "papermill": {
     "duration": 0.024992,
     "end_time": "2022-11-25T18:15:12.184161",
     "exception": false,
     "start_time": "2022-11-25T18:15:12.159169",
     "status": "completed"
    },
    "tags": []
   },
   "outputs": [],
   "source": [
    "X_train =np.array(X_train)\n",
    "X_test =np.array(X_test)\n",
    "\n",
    "X_tr_t = X_train.reshape(X_train.shape[0], 1, X_train.shape[1])\n",
    "X_tst_t = X_test.reshape(X_test.shape[0], 1, X_test.shape[1])"
   ]
  },
  {
   "cell_type": "markdown",
   "id": "608f178e",
   "metadata": {
    "id": "1Vw-bu8hSra8",
    "papermill": {
     "duration": 0.014673,
     "end_time": "2022-11-25T18:15:12.213548",
     "exception": false,
     "start_time": "2022-11-25T18:15:12.198875",
     "status": "completed"
    },
    "tags": []
   },
   "source": [
    "### **LSTM Model**"
   ]
  },
  {
   "cell_type": "code",
   "execution_count": 22,
   "id": "76630a45",
   "metadata": {
    "execution": {
     "iopub.execute_input": "2022-11-25T18:15:12.245201Z",
     "iopub.status.busy": "2022-11-25T18:15:12.244552Z",
     "iopub.status.idle": "2022-11-25T18:50:44.266600Z",
     "shell.execute_reply": "2022-11-25T18:50:44.265378Z"
    },
    "id": "4s0j42HEPXSL",
    "papermill": {
     "duration": 2134.096004,
     "end_time": "2022-11-25T18:50:46.324321",
     "exception": false,
     "start_time": "2022-11-25T18:15:12.228317",
     "status": "completed"
    },
    "tags": []
   },
   "outputs": [
    {
     "name": "stderr",
     "output_type": "stream",
     "text": [
      "2022-11-25 18:15:12.664365: I tensorflow/core/common_runtime/process_util.cc:146] Creating new thread pool with default inter op setting: 2. Tune using inter_op_parallelism_threads for best performance.\n",
      "2022-11-25 18:15:12.929303: I tensorflow/compiler/mlir/mlir_graph_optimization_pass.cc:185] None of the MLIR Optimization Passes are enabled (registered 2)\n"
     ]
    },
    {
     "name": "stdout",
     "output_type": "stream",
     "text": [
      "Epoch 1/300\n",
      "6586/6586 [==============================] - 12s 2ms/step - loss: 0.7490\n",
      "Epoch 2/300\n",
      "6586/6586 [==============================] - 10s 2ms/step - loss: 3.9047\n",
      "Epoch 3/300\n",
      "6586/6586 [==============================] - 11s 2ms/step - loss: 0.5854\n",
      "Epoch 4/300\n",
      "6586/6586 [==============================] - 10s 2ms/step - loss: 0.3488\n",
      "Epoch 5/300\n",
      "6586/6586 [==============================] - 10s 2ms/step - loss: 0.3220\n",
      "Epoch 6/300\n",
      "6586/6586 [==============================] - 10s 2ms/step - loss: 0.3204\n",
      "Epoch 7/300\n",
      "6586/6586 [==============================] - 10s 2ms/step - loss: 0.3203\n",
      "Epoch 8/300\n",
      "6586/6586 [==============================] - 10s 2ms/step - loss: 0.3193\n",
      "Epoch 9/300\n",
      "6586/6586 [==============================] - 10s 2ms/step - loss: 0.3180\n",
      "Epoch 10/300\n",
      "6586/6586 [==============================] - 11s 2ms/step - loss: 0.3167\n",
      "Epoch 11/300\n",
      "6586/6586 [==============================] - 10s 2ms/step - loss: 0.3156\n",
      "Epoch 12/300\n",
      "6586/6586 [==============================] - 10s 2ms/step - loss: 0.3146\n",
      "Epoch 13/300\n",
      "6586/6586 [==============================] - 11s 2ms/step - loss: 0.3137\n",
      "Epoch 14/300\n",
      "6586/6586 [==============================] - 11s 2ms/step - loss: 0.3129\n",
      "Epoch 15/300\n",
      "6586/6586 [==============================] - 10s 2ms/step - loss: 0.3121\n",
      "Epoch 16/300\n",
      "6586/6586 [==============================] - 10s 2ms/step - loss: 0.3114\n",
      "Epoch 17/300\n",
      "6586/6586 [==============================] - 10s 1ms/step - loss: 0.3108\n",
      "Epoch 18/300\n",
      "6586/6586 [==============================] - 10s 1ms/step - loss: 0.3102\n",
      "Epoch 19/300\n",
      "6586/6586 [==============================] - 10s 2ms/step - loss: 0.3096\n",
      "Epoch 20/300\n",
      "6586/6586 [==============================] - 10s 2ms/step - loss: 0.3090\n",
      "Epoch 21/300\n",
      "6586/6586 [==============================] - 10s 2ms/step - loss: 0.3085\n",
      "Epoch 22/300\n",
      "6586/6586 [==============================] - 10s 2ms/step - loss: 0.3080\n",
      "Epoch 23/300\n",
      "6586/6586 [==============================] - 10s 2ms/step - loss: 0.3075\n",
      "Epoch 24/300\n",
      "6586/6586 [==============================] - 10s 2ms/step - loss: 0.3070\n",
      "Epoch 25/300\n",
      "6586/6586 [==============================] - 11s 2ms/step - loss: 0.3065\n",
      "Epoch 26/300\n",
      "6586/6586 [==============================] - 11s 2ms/step - loss: 0.3060\n",
      "Epoch 27/300\n",
      "6586/6586 [==============================] - 10s 2ms/step - loss: 0.3055\n",
      "Epoch 28/300\n",
      "6586/6586 [==============================] - 11s 2ms/step - loss: 0.3051\n",
      "Epoch 29/300\n",
      "6586/6586 [==============================] - 11s 2ms/step - loss: 0.3046\n",
      "Epoch 30/300\n",
      "6586/6586 [==============================] - 10s 2ms/step - loss: 0.3042\n",
      "Epoch 31/300\n",
      "6586/6586 [==============================] - 10s 2ms/step - loss: 0.3037\n",
      "Epoch 32/300\n",
      "6586/6586 [==============================] - 11s 2ms/step - loss: 0.3033\n",
      "Epoch 33/300\n",
      "6586/6586 [==============================] - 10s 2ms/step - loss: 0.3028\n",
      "Epoch 34/300\n",
      "6586/6586 [==============================] - 11s 2ms/step - loss: 0.3024\n",
      "Epoch 35/300\n",
      "6586/6586 [==============================] - 10s 2ms/step - loss: 0.3019\n",
      "Epoch 36/300\n",
      "6586/6586 [==============================] - 10s 2ms/step - loss: 0.3015\n",
      "Epoch 37/300\n",
      "6586/6586 [==============================] - 11s 2ms/step - loss: 0.3010\n",
      "Epoch 38/300\n",
      "6586/6586 [==============================] - 11s 2ms/step - loss: 0.3006\n",
      "Epoch 39/300\n",
      "6586/6586 [==============================] - 11s 2ms/step - loss: 0.3001\n",
      "Epoch 40/300\n",
      "6586/6586 [==============================] - 12s 2ms/step - loss: 0.2997\n",
      "Epoch 41/300\n",
      "6586/6586 [==============================] - 11s 2ms/step - loss: 0.2993\n",
      "Epoch 42/300\n",
      "6586/6586 [==============================] - 10s 2ms/step - loss: 0.2988\n",
      "Epoch 43/300\n",
      "6586/6586 [==============================] - 10s 2ms/step - loss: 0.2984\n",
      "Epoch 44/300\n",
      "6586/6586 [==============================] - 11s 2ms/step - loss: 0.2979\n",
      "Epoch 45/300\n",
      "6586/6586 [==============================] - 10s 2ms/step - loss: 0.2975\n",
      "Epoch 46/300\n",
      "6586/6586 [==============================] - 11s 2ms/step - loss: 0.2970\n",
      "Epoch 47/300\n",
      "6586/6586 [==============================] - 10s 2ms/step - loss: 0.2966\n",
      "Epoch 48/300\n",
      "6586/6586 [==============================] - 11s 2ms/step - loss: 0.2962\n",
      "Epoch 49/300\n",
      "6586/6586 [==============================] - 11s 2ms/step - loss: 0.2957\n",
      "Epoch 50/300\n",
      "6586/6586 [==============================] - 11s 2ms/step - loss: 0.2953\n",
      "Epoch 51/300\n",
      "6586/6586 [==============================] - 10s 2ms/step - loss: 0.2948\n",
      "Epoch 52/300\n",
      "6586/6586 [==============================] - 11s 2ms/step - loss: 0.2944\n",
      "Epoch 53/300\n",
      "6586/6586 [==============================] - 11s 2ms/step - loss: 0.2939\n",
      "Epoch 54/300\n",
      "6586/6586 [==============================] - 10s 2ms/step - loss: 0.2935\n",
      "Epoch 55/300\n",
      "6586/6586 [==============================] - 11s 2ms/step - loss: 0.2930\n",
      "Epoch 56/300\n",
      "6586/6586 [==============================] - 10s 2ms/step - loss: 0.2926\n",
      "Epoch 57/300\n",
      "6586/6586 [==============================] - 10s 2ms/step - loss: 0.2921\n",
      "Epoch 58/300\n",
      "6586/6586 [==============================] - 11s 2ms/step - loss: 0.2917\n",
      "Epoch 59/300\n",
      "6586/6586 [==============================] - 10s 2ms/step - loss: 0.2912\n",
      "Epoch 60/300\n",
      "6586/6586 [==============================] - 11s 2ms/step - loss: 0.2908\n",
      "Epoch 61/300\n",
      "6586/6586 [==============================] - 11s 2ms/step - loss: 0.2903\n",
      "Epoch 62/300\n",
      "6586/6586 [==============================] - 10s 2ms/step - loss: 0.2899\n",
      "Epoch 63/300\n",
      "6586/6586 [==============================] - 10s 2ms/step - loss: 0.2894\n",
      "Epoch 64/300\n",
      "6586/6586 [==============================] - 10s 2ms/step - loss: 0.2890\n",
      "Epoch 65/300\n",
      "6586/6586 [==============================] - 10s 1ms/step - loss: 0.2886\n",
      "Epoch 66/300\n",
      "6586/6586 [==============================] - 10s 2ms/step - loss: 0.2881\n",
      "Epoch 67/300\n",
      "6586/6586 [==============================] - 10s 2ms/step - loss: 0.2877\n",
      "Epoch 68/300\n",
      "6586/6586 [==============================] - 10s 2ms/step - loss: 0.2873\n",
      "Epoch 69/300\n",
      "6586/6586 [==============================] - 10s 2ms/step - loss: 0.2868\n",
      "Epoch 70/300\n",
      "6586/6586 [==============================] - 11s 2ms/step - loss: 0.2864\n",
      "Epoch 71/300\n",
      "6586/6586 [==============================] - 10s 2ms/step - loss: 0.2860\n",
      "Epoch 72/300\n",
      "6586/6586 [==============================] - 10s 2ms/step - loss: 0.2856\n",
      "Epoch 73/300\n",
      "6586/6586 [==============================] - 11s 2ms/step - loss: 0.2852\n",
      "Epoch 74/300\n",
      "6586/6586 [==============================] - 10s 2ms/step - loss: 0.2848\n",
      "Epoch 75/300\n",
      "6586/6586 [==============================] - 10s 2ms/step - loss: 0.2844\n",
      "Epoch 76/300\n",
      "6586/6586 [==============================] - 11s 2ms/step - loss: 0.2840\n",
      "Epoch 77/300\n",
      "6586/6586 [==============================] - 10s 2ms/step - loss: 0.2836\n",
      "Epoch 78/300\n",
      "6586/6586 [==============================] - 11s 2ms/step - loss: 0.2832\n",
      "Epoch 79/300\n",
      "6586/6586 [==============================] - 11s 2ms/step - loss: 0.2828\n",
      "Epoch 80/300\n",
      "6586/6586 [==============================] - 10s 2ms/step - loss: 0.2824\n",
      "Epoch 81/300\n",
      "6586/6586 [==============================] - 11s 2ms/step - loss: 0.2821\n",
      "Epoch 82/300\n",
      "6586/6586 [==============================] - 12s 2ms/step - loss: 0.2817\n",
      "Epoch 83/300\n",
      "6586/6586 [==============================] - 12s 2ms/step - loss: 0.2814\n",
      "Epoch 84/300\n",
      "6586/6586 [==============================] - 11s 2ms/step - loss: 0.2810\n",
      "Epoch 85/300\n",
      "6586/6586 [==============================] - 12s 2ms/step - loss: 0.2807\n",
      "Epoch 86/300\n",
      "6586/6586 [==============================] - 12s 2ms/step - loss: 0.2804\n",
      "Epoch 87/300\n",
      "6586/6586 [==============================] - 12s 2ms/step - loss: 0.2801\n",
      "Epoch 88/300\n",
      "6586/6586 [==============================] - 11s 2ms/step - loss: 0.2798\n",
      "Epoch 89/300\n",
      "6586/6586 [==============================] - 10s 1ms/step - loss: 0.2795\n",
      "Epoch 90/300\n",
      "6586/6586 [==============================] - 10s 2ms/step - loss: 0.2792\n",
      "Epoch 91/300\n",
      "6586/6586 [==============================] - 10s 2ms/step - loss: 0.2790\n",
      "Epoch 92/300\n",
      "6586/6586 [==============================] - 10s 2ms/step - loss: 0.2787\n",
      "Epoch 93/300\n",
      "6586/6586 [==============================] - 10s 2ms/step - loss: 0.2785\n",
      "Epoch 94/300\n",
      "6586/6586 [==============================] - 10s 2ms/step - loss: 0.2784\n",
      "Epoch 95/300\n",
      "6586/6586 [==============================] - 10s 2ms/step - loss: 0.2782\n",
      "Epoch 96/300\n",
      "6586/6586 [==============================] - 10s 2ms/step - loss: 0.2781\n",
      "Epoch 97/300\n",
      "6586/6586 [==============================] - 10s 2ms/step - loss: 0.2780\n",
      "Epoch 98/300\n",
      "6586/6586 [==============================] - 10s 2ms/step - loss: 0.2780\n",
      "Epoch 99/300\n",
      "6586/6586 [==============================] - 10s 2ms/step - loss: 0.2780\n",
      "Epoch 100/300\n",
      "6586/6586 [==============================] - 10s 2ms/step - loss: 0.2780\n",
      "Epoch 101/300\n",
      "6586/6586 [==============================] - 10s 2ms/step - loss: 0.2779\n",
      "Epoch 102/300\n",
      "6586/6586 [==============================] - 10s 2ms/step - loss: 0.2779\n",
      "Epoch 103/300\n",
      "6586/6586 [==============================] - 10s 2ms/step - loss: 0.2778\n",
      "Epoch 104/300\n",
      "6586/6586 [==============================] - 10s 2ms/step - loss: 0.2776\n",
      "Epoch 105/300\n",
      "6586/6586 [==============================] - 11s 2ms/step - loss: 0.2772\n",
      "Epoch 106/300\n",
      "6586/6586 [==============================] - 10s 2ms/step - loss: 0.2770\n",
      "Epoch 107/300\n",
      "6586/6586 [==============================] - 10s 1ms/step - loss: 0.2767\n",
      "Epoch 108/300\n",
      "6586/6586 [==============================] - 11s 2ms/step - loss: 0.2765\n",
      "Epoch 109/300\n",
      "6586/6586 [==============================] - 10s 2ms/step - loss: 0.2762\n",
      "Epoch 110/300\n",
      "6586/6586 [==============================] - 10s 1ms/step - loss: 0.2760\n",
      "Epoch 111/300\n",
      "6586/6586 [==============================] - 10s 2ms/step - loss: 0.2757\n",
      "Epoch 112/300\n",
      "6586/6586 [==============================] - 10s 1ms/step - loss: 0.2755\n",
      "Epoch 113/300\n",
      "6586/6586 [==============================] - 10s 1ms/step - loss: 0.2753\n",
      "Epoch 114/300\n",
      "6586/6586 [==============================] - 10s 2ms/step - loss: 0.2750\n",
      "Epoch 115/300\n",
      "6586/6586 [==============================] - 10s 1ms/step - loss: 0.2748\n",
      "Epoch 116/300\n",
      "6586/6586 [==============================] - 10s 2ms/step - loss: 0.2746\n",
      "Epoch 117/300\n",
      "6586/6586 [==============================] - 10s 2ms/step - loss: 0.2743\n",
      "Epoch 118/300\n",
      "6586/6586 [==============================] - 10s 1ms/step - loss: 0.2741\n",
      "Epoch 119/300\n",
      "6586/6586 [==============================] - 10s 1ms/step - loss: 0.2739\n",
      "Epoch 120/300\n",
      "6586/6586 [==============================] - 10s 1ms/step - loss: 0.2736\n",
      "Epoch 121/300\n",
      "6586/6586 [==============================] - 10s 2ms/step - loss: 0.2734\n",
      "Epoch 122/300\n",
      "6586/6586 [==============================] - 10s 1ms/step - loss: 0.2732\n",
      "Epoch 123/300\n",
      "6586/6586 [==============================] - 10s 2ms/step - loss: 0.2729\n",
      "Epoch 124/300\n",
      "6586/6586 [==============================] - 11s 2ms/step - loss: 0.2727\n",
      "Epoch 125/300\n",
      "6586/6586 [==============================] - 10s 2ms/step - loss: 0.2725\n",
      "Epoch 126/300\n",
      "6586/6586 [==============================] - 10s 2ms/step - loss: 0.2723\n",
      "Epoch 127/300\n",
      "6586/6586 [==============================] - 10s 2ms/step - loss: 0.2720\n",
      "Epoch 128/300\n",
      "6586/6586 [==============================] - 10s 2ms/step - loss: 0.2718\n",
      "Epoch 129/300\n",
      "6586/6586 [==============================] - 11s 2ms/step - loss: 0.2716\n",
      "Epoch 130/300\n",
      "6586/6586 [==============================] - 11s 2ms/step - loss: 0.2714\n",
      "Epoch 131/300\n",
      "6586/6586 [==============================] - 10s 2ms/step - loss: 0.2712\n",
      "Epoch 132/300\n",
      "6586/6586 [==============================] - 10s 2ms/step - loss: 0.2709\n",
      "Epoch 133/300\n",
      "6586/6586 [==============================] - 10s 2ms/step - loss: 0.2707\n",
      "Epoch 134/300\n",
      "6586/6586 [==============================] - 10s 1ms/step - loss: 0.2705\n",
      "Epoch 135/300\n",
      "6586/6586 [==============================] - 10s 1ms/step - loss: 0.2703\n",
      "Epoch 136/300\n",
      "6586/6586 [==============================] - 10s 2ms/step - loss: 0.2701\n",
      "Epoch 137/300\n",
      "6586/6586 [==============================] - 10s 1ms/step - loss: 0.2698\n",
      "Epoch 138/300\n",
      "6586/6586 [==============================] - 10s 1ms/step - loss: 0.2696\n",
      "Epoch 139/300\n",
      "6586/6586 [==============================] - 10s 2ms/step - loss: 0.2694\n",
      "Epoch 140/300\n",
      "6586/6586 [==============================] - 10s 1ms/step - loss: 0.2692\n",
      "Epoch 141/300\n",
      "6586/6586 [==============================] - 10s 2ms/step - loss: 0.2690\n",
      "Epoch 142/300\n",
      "6586/6586 [==============================] - 10s 2ms/step - loss: 0.2688\n",
      "Epoch 143/300\n",
      "6586/6586 [==============================] - 10s 2ms/step - loss: 0.2685\n",
      "Epoch 144/300\n",
      "6586/6586 [==============================] - 10s 1ms/step - loss: 0.2683\n",
      "Epoch 145/300\n",
      "6586/6586 [==============================] - 11s 2ms/step - loss: 0.2681\n",
      "Epoch 146/300\n",
      "6586/6586 [==============================] - 10s 2ms/step - loss: 0.2679\n",
      "Epoch 147/300\n",
      "6586/6586 [==============================] - 10s 2ms/step - loss: 0.2677\n",
      "Epoch 148/300\n",
      "6586/6586 [==============================] - 11s 2ms/step - loss: 0.2675\n",
      "Epoch 149/300\n",
      "6586/6586 [==============================] - 10s 2ms/step - loss: 0.2673\n",
      "Epoch 150/300\n",
      "6586/6586 [==============================] - 10s 2ms/step - loss: 0.2671\n",
      "Epoch 151/300\n",
      "6586/6586 [==============================] - 10s 2ms/step - loss: 0.2669\n",
      "Epoch 152/300\n",
      "6586/6586 [==============================] - 10s 2ms/step - loss: 0.2666\n",
      "Epoch 153/300\n",
      "6586/6586 [==============================] - 10s 1ms/step - loss: 0.2664\n",
      "Epoch 154/300\n",
      "6586/6586 [==============================] - 10s 2ms/step - loss: 0.2662\n",
      "Epoch 155/300\n",
      "6586/6586 [==============================] - 10s 2ms/step - loss: 0.2660\n",
      "Epoch 156/300\n",
      "6586/6586 [==============================] - 10s 2ms/step - loss: 0.2658\n",
      "Epoch 157/300\n",
      "6586/6586 [==============================] - 10s 2ms/step - loss: 0.2656\n",
      "Epoch 158/300\n",
      "6586/6586 [==============================] - 11s 2ms/step - loss: 0.2654\n",
      "Epoch 159/300\n",
      "6586/6586 [==============================] - 10s 2ms/step - loss: 0.2652\n",
      "Epoch 160/300\n",
      "6586/6586 [==============================] - 10s 2ms/step - loss: 0.2650\n",
      "Epoch 161/300\n",
      "6586/6586 [==============================] - 10s 2ms/step - loss: 0.2648\n",
      "Epoch 162/300\n",
      "6586/6586 [==============================] - 10s 2ms/step - loss: 0.2646\n",
      "Epoch 163/300\n",
      "6586/6586 [==============================] - 10s 2ms/step - loss: 0.2644\n",
      "Epoch 164/300\n",
      "6586/6586 [==============================] - 10s 2ms/step - loss: 0.2642\n",
      "Epoch 165/300\n",
      "6586/6586 [==============================] - 10s 2ms/step - loss: 0.2640\n",
      "Epoch 166/300\n",
      "6586/6586 [==============================] - 10s 2ms/step - loss: 0.2638\n",
      "Epoch 167/300\n",
      "6586/6586 [==============================] - 11s 2ms/step - loss: 0.2636\n",
      "Epoch 168/300\n",
      "6586/6586 [==============================] - 10s 2ms/step - loss: 0.2634\n",
      "Epoch 169/300\n",
      "6586/6586 [==============================] - 10s 1ms/step - loss: 0.2632\n",
      "Epoch 170/300\n",
      "6586/6586 [==============================] - 10s 2ms/step - loss: 0.2630\n",
      "Epoch 171/300\n",
      "6586/6586 [==============================] - 10s 2ms/step - loss: 0.2628\n",
      "Epoch 172/300\n",
      "6586/6586 [==============================] - 10s 2ms/step - loss: 0.2626\n",
      "Epoch 173/300\n",
      "6586/6586 [==============================] - 10s 2ms/step - loss: 0.2624\n",
      "Epoch 174/300\n",
      "6586/6586 [==============================] - 10s 2ms/step - loss: 0.2622\n",
      "Epoch 175/300\n",
      "6586/6586 [==============================] - 10s 2ms/step - loss: 0.2620\n",
      "Epoch 176/300\n",
      "6586/6586 [==============================] - 10s 2ms/step - loss: 0.2618\n",
      "Epoch 177/300\n",
      "6586/6586 [==============================] - 10s 2ms/step - loss: 0.2616\n",
      "Epoch 178/300\n",
      "6586/6586 [==============================] - 10s 2ms/step - loss: 0.2614\n",
      "Epoch 179/300\n",
      "6586/6586 [==============================] - 10s 2ms/step - loss: 0.2612\n",
      "Epoch 180/300\n",
      "6586/6586 [==============================] - 10s 1ms/step - loss: 0.2610\n",
      "Epoch 181/300\n",
      "6586/6586 [==============================] - 10s 2ms/step - loss: 0.2608\n",
      "Epoch 182/300\n",
      "6586/6586 [==============================] - 10s 2ms/step - loss: 0.2605\n",
      "Epoch 183/300\n",
      "6586/6586 [==============================] - 10s 2ms/step - loss: 0.2603\n",
      "Epoch 184/300\n",
      "6586/6586 [==============================] - 10s 2ms/step - loss: 0.2601\n",
      "Epoch 185/300\n",
      "6586/6586 [==============================] - 10s 2ms/step - loss: 0.2599\n",
      "Epoch 186/300\n",
      "6586/6586 [==============================] - 10s 2ms/step - loss: 0.2597\n",
      "Epoch 187/300\n",
      "6586/6586 [==============================] - 10s 2ms/step - loss: 0.2594\n",
      "Epoch 188/300\n",
      "6586/6586 [==============================] - 10s 2ms/step - loss: 0.2592\n",
      "Epoch 189/300\n",
      "6586/6586 [==============================] - 10s 2ms/step - loss: 0.2590\n",
      "Epoch 190/300\n",
      "6586/6586 [==============================] - 10s 2ms/step - loss: 0.2588\n",
      "Epoch 191/300\n",
      "6586/6586 [==============================] - 11s 2ms/step - loss: 0.2586\n",
      "Epoch 192/300\n",
      "6586/6586 [==============================] - 10s 2ms/step - loss: 0.2584\n",
      "Epoch 193/300\n",
      "6586/6586 [==============================] - 10s 2ms/step - loss: 0.2582\n",
      "Epoch 194/300\n",
      "6586/6586 [==============================] - 10s 2ms/step - loss: 0.2581\n",
      "Epoch 195/300\n",
      "6586/6586 [==============================] - 10s 2ms/step - loss: 0.2580\n",
      "Epoch 196/300\n",
      "6586/6586 [==============================] - 10s 2ms/step - loss: 0.2579\n",
      "Epoch 197/300\n",
      "6586/6586 [==============================] - 10s 2ms/step - loss: 0.2578\n",
      "Epoch 198/300\n",
      "6586/6586 [==============================] - 11s 2ms/step - loss: 0.2578\n",
      "Epoch 199/300\n",
      "6586/6586 [==============================] - 10s 2ms/step - loss: 0.2577\n",
      "Epoch 200/300\n",
      "6586/6586 [==============================] - 10s 1ms/step - loss: 0.2577\n",
      "Epoch 201/300\n",
      "6586/6586 [==============================] - 10s 2ms/step - loss: 0.2577\n",
      "Epoch 202/300\n",
      "6586/6586 [==============================] - 10s 2ms/step - loss: 0.2576\n",
      "Epoch 203/300\n",
      "6586/6586 [==============================] - 10s 2ms/step - loss: 0.2576\n",
      "Epoch 204/300\n",
      "6586/6586 [==============================] - 10s 2ms/step - loss: 0.2577\n",
      "Epoch 205/300\n",
      "6586/6586 [==============================] - 10s 2ms/step - loss: 0.2577\n",
      "Epoch 206/300\n",
      "6586/6586 [==============================] - 10s 2ms/step - loss: 0.2578\n",
      "Epoch 207/300\n",
      "6586/6586 [==============================] - 10s 2ms/step - loss: 0.2578\n",
      "Epoch 00207: early stopping\n"
     ]
    }
   ],
   "source": [
    "from keras.models import Sequential\n",
    "from keras.layers import Dense\n",
    "import keras.backend as K\n",
    "from keras.callbacks import EarlyStopping\n",
    "from keras.models import load_model\n",
    "from keras.layers import LSTM\n",
    "from tensorflow.keras.optimizers import Adam\n",
    "K.clear_session()\n",
    "model_lstm = Sequential()\n",
    "model_lstm.add(LSTM(16, input_shape=(1, X_train.shape[1]), activation='relu', return_sequences=False))\n",
    "model_lstm.add(Dense(1))\n",
    "model_lstm.compile(loss='mean_squared_error', optimizer='adam')\n",
    "early_stop = EarlyStopping(monitor='loss', patience=5, verbose=1)\n",
    "history_model_lstm = model_lstm.fit(X_tr_t, y_train, epochs=300, batch_size=1, verbose=1, shuffle=False, callbacks=[early_stop])"
   ]
  },
  {
   "cell_type": "markdown",
   "id": "eecb8afa",
   "metadata": {
    "id": "8OJ0cYidSzQg",
    "papermill": {
     "duration": 2.768234,
     "end_time": "2022-11-25T18:50:51.792986",
     "exception": false,
     "start_time": "2022-11-25T18:50:49.024752",
     "status": "completed"
    },
    "tags": []
   },
   "source": [
    "### **Evaluating the Model**"
   ]
  },
  {
   "cell_type": "code",
   "execution_count": 23,
   "id": "f79e78b1",
   "metadata": {
    "execution": {
     "iopub.execute_input": "2022-11-25T18:50:57.326273Z",
     "iopub.status.busy": "2022-11-25T18:50:57.325430Z",
     "iopub.status.idle": "2022-11-25T18:51:36.581917Z",
     "shell.execute_reply": "2022-11-25T18:51:36.580584Z"
    },
    "id": "Qooyg2haPcNg",
    "papermill": {
     "duration": 44.875458,
     "end_time": "2022-11-25T18:51:39.379126",
     "exception": false,
     "start_time": "2022-11-25T18:50:54.503668",
     "status": "completed"
    },
    "tags": []
   },
   "outputs": [
    {
     "name": "stdout",
     "output_type": "stream",
     "text": [
      "The R2 score on the Train set is:\t0.766\n",
      "The R2 score on the Test set is:\t0.858\n"
     ]
    }
   ],
   "source": [
    "y_pred_test_lstm = model_lstm.predict(X_tst_t)\n",
    "y_train_pred_lstm = model_lstm.predict(X_tr_t)\n",
    "print(\"The R2 score on the Train set is:\\t{:0.3f}\".format(r2_score(y_train, y_train_pred_lstm)))\n",
    "r2_train = r2_score(y_train, y_train_pred_lstm)\n",
    "\n",
    "print(\"The R2 score on the Test set is:\\t{:0.3f}\".format(r2_score(y_test, y_pred_test_lstm)))\n",
    "r2_test = r2_score(y_test, y_pred_test_lstm)"
   ]
  },
  {
   "cell_type": "markdown",
   "id": "9c00cc3f",
   "metadata": {
    "id": "PCoUJ3PUTItd",
    "papermill": {
     "duration": 2.721119,
     "end_time": "2022-11-25T18:51:44.929097",
     "exception": false,
     "start_time": "2022-11-25T18:51:42.207978",
     "status": "completed"
    },
    "tags": []
   },
   "source": [
    "### **Predictions using LSTM**"
   ]
  },
  {
   "cell_type": "code",
   "execution_count": 24,
   "id": "16fe65db",
   "metadata": {
    "execution": {
     "iopub.execute_input": "2022-11-25T18:51:50.440429Z",
     "iopub.status.busy": "2022-11-25T18:51:50.439937Z",
     "iopub.status.idle": "2022-11-25T18:51:51.494647Z",
     "shell.execute_reply": "2022-11-25T18:51:51.493418Z"
    },
    "id": "6jHnr7I-Pd5o",
    "papermill": {
     "duration": 3.860804,
     "end_time": "2022-11-25T18:51:51.497176",
     "exception": false,
     "start_time": "2022-11-25T18:51:47.636372",
     "status": "completed"
    },
    "tags": []
   },
   "outputs": [
    {
     "name": "stdout",
     "output_type": "stream",
     "text": [
      "658/658 [==============================] - 1s 1ms/step - loss: 51.0389\n"
     ]
    }
   ],
   "source": [
    "score_lstm= model_lstm.evaluate(X_tst_t, y_test, batch_size=1)"
   ]
  },
  {
   "cell_type": "code",
   "execution_count": 25,
   "id": "078f2b90",
   "metadata": {
    "execution": {
     "iopub.execute_input": "2022-11-25T18:51:56.916732Z",
     "iopub.status.busy": "2022-11-25T18:51:56.916307Z",
     "iopub.status.idle": "2022-11-25T18:51:56.921107Z",
     "shell.execute_reply": "2022-11-25T18:51:56.920302Z"
    },
    "id": "6eYUNLC0PfdC",
    "papermill": {
     "duration": 2.706234,
     "end_time": "2022-11-25T18:51:56.924047",
     "exception": false,
     "start_time": "2022-11-25T18:51:54.217813",
     "status": "completed"
    },
    "tags": []
   },
   "outputs": [
    {
     "name": "stdout",
     "output_type": "stream",
     "text": [
      "LSTM: 51.038948\n"
     ]
    }
   ],
   "source": [
    "print('LSTM: %f'%score_lstm)"
   ]
  },
  {
   "cell_type": "code",
   "execution_count": 26,
   "id": "6c950d95",
   "metadata": {
    "execution": {
     "iopub.execute_input": "2022-11-25T18:52:02.436705Z",
     "iopub.status.busy": "2022-11-25T18:52:02.436310Z",
     "iopub.status.idle": "2022-11-25T18:52:02.511724Z",
     "shell.execute_reply": "2022-11-25T18:52:02.510568Z"
    },
    "id": "mNzCNS-xPg7b",
    "papermill": {
     "duration": 2.874195,
     "end_time": "2022-11-25T18:52:02.514356",
     "exception": false,
     "start_time": "2022-11-25T18:51:59.640161",
     "status": "completed"
    },
    "tags": []
   },
   "outputs": [],
   "source": [
    "y_pred_test_LSTM = model_lstm.predict(X_tst_t)"
   ]
  },
  {
   "cell_type": "markdown",
   "id": "1ace6179",
   "metadata": {
    "id": "cnQFsishTPow",
    "papermill": {
     "duration": 2.786147,
     "end_time": "2022-11-25T18:52:07.996505",
     "exception": false,
     "start_time": "2022-11-25T18:52:05.210358",
     "status": "completed"
    },
    "tags": []
   },
   "source": [
    "### **LSTM Prediction Visualization**"
   ]
  },
  {
   "cell_type": "code",
   "execution_count": 27,
   "id": "9d903d85",
   "metadata": {
    "execution": {
     "iopub.execute_input": "2022-11-25T18:52:13.578053Z",
     "iopub.status.busy": "2022-11-25T18:52:13.577672Z",
     "iopub.status.idle": "2022-11-25T18:52:13.740214Z",
     "shell.execute_reply": "2022-11-25T18:52:13.739117Z"
    },
    "id": "4VTzEmDlPiqj",
    "papermill": {
     "duration": 2.988665,
     "end_time": "2022-11-25T18:52:13.742660",
     "exception": false,
     "start_time": "2022-11-25T18:52:10.753995",
     "status": "completed"
    },
    "tags": []
   },
   "outputs": [
    {
     "data": {
      "image/png": "[encoded data removed]",
      "text/plain": [
       "<Figure size 432x288 with 1 Axes>"
      ]
     },
     "metadata": {
      "needs_background": "light"
     },
     "output_type": "display_data"
    }
   ],
   "source": [
    "# A plot for the predicted and actual values should provide a more clear understanding.\n",
    "plt.plot(y_test, label='True')\n",
    "plt.plot(y_pred_test_LSTM, label='LSTM')\n",
    "plt.title(\"LSTM's_Prediction\")\n",
    "plt.xlabel('Observation')\n",
    "plt.ylabel('INR_Scaled')\n",
    "plt.legend()\n",
    "plt.show()"
   ]
  },
  {
   "cell_type": "markdown",
   "id": "5c6ce1c1",
   "metadata": {
    "id": "bBOdsYdCf5og",
    "papermill": {
     "duration": 2.800607,
     "end_time": "2022-11-25T18:52:19.246023",
     "exception": false,
     "start_time": "2022-11-25T18:52:16.445416",
     "status": "completed"
    },
    "tags": []
   },
   "source": [
    "### **Additional Implementation for training LSTM on same DataSet**"
   ]
  },
  {
   "cell_type": "code",
   "execution_count": 28,
   "id": "878a7803",
   "metadata": {
    "execution": {
     "iopub.execute_input": "2022-11-25T18:52:24.684651Z",
     "iopub.status.busy": "2022-11-25T18:52:24.684144Z",
     "iopub.status.idle": "2022-11-25T18:52:24.704120Z",
     "shell.execute_reply": "2022-11-25T18:52:24.703296Z"
    },
    "id": "SOjw3f8XW08h",
    "papermill": {
     "duration": 2.751004,
     "end_time": "2022-11-25T18:52:24.706382",
     "exception": false,
     "start_time": "2022-11-25T18:52:21.955378",
     "status": "completed"
    },
    "tags": []
   },
   "outputs": [],
   "source": [
    "import math\n",
    "import keras\n",
    "close_prices = df_final['Close']\n",
    "values = close_prices.values\n",
    "training_data_len = math.ceil(len(values)* 0.8)\n",
    "\n",
    "scaler = MinMaxScaler(feature_range=(0,1))\n",
    "scaled_data = scaler.fit_transform(values.reshape(-1,1))\n",
    "\n",
    "train_data = scaled_data[0: training_data_len, :]\n",
    "\n",
    "x_train = []\n",
    "y_train = []\n",
    "\n",
    "for i in range(60, len(train_data)):\n",
    "    x_train.append(train_data[i-60:i, 0])\n",
    "    y_train.append(train_data[i, 0])\n",
    "    \n",
    "x_train, y_train = np.array(x_train), np.array(y_train)\n",
    "\n",
    "x_train = np.reshape(x_train, (x_train.shape[0], x_train.shape[1], 1))"
   ]
  },
  {
   "cell_type": "code",
   "execution_count": 29,
   "id": "15620a59",
   "metadata": {
    "execution": {
     "iopub.execute_input": "2022-11-25T18:52:30.212945Z",
     "iopub.status.busy": "2022-11-25T18:52:30.212573Z",
     "iopub.status.idle": "2022-11-25T18:52:30.221130Z",
     "shell.execute_reply": "2022-11-25T18:52:30.220348Z"
    },
    "id": "yFjCCjOiXY90",
    "papermill": {
     "duration": 2.800905,
     "end_time": "2022-11-25T18:52:30.223255",
     "exception": false,
     "start_time": "2022-11-25T18:52:27.422350",
     "status": "completed"
    },
    "tags": []
   },
   "outputs": [],
   "source": [
    "test_data = scaled_data[training_data_len-60: , : ]\n",
    "x_test = []\n",
    "y_test = values[training_data_len:]\n",
    "\n",
    "for i in range(60, len(test_data)):\n",
    "  x_test.append(test_data[i-60:i, 0])\n",
    "\n",
    "x_test = np.array(x_test)\n",
    "x_test = np.reshape(x_test, (x_test.shape[0], x_test.shape[1], 1))"
   ]
  },
  {
   "cell_type": "code",
   "execution_count": 30,
   "id": "60ab1766",
   "metadata": {
    "execution": {
     "iopub.execute_input": "2022-11-25T18:52:35.746837Z",
     "iopub.status.busy": "2022-11-25T18:52:35.746457Z",
     "iopub.status.idle": "2022-11-25T18:52:36.234626Z",
     "shell.execute_reply": "2022-11-25T18:52:36.233385Z"
    },
    "id": "7_ztOieyXePu",
    "papermill": {
     "duration": 3.308558,
     "end_time": "2022-11-25T18:52:36.236918",
     "exception": false,
     "start_time": "2022-11-25T18:52:32.928360",
     "status": "completed"
    },
    "tags": []
   },
   "outputs": [
    {
     "name": "stdout",
     "output_type": "stream",
     "text": [
      "Model: \"sequential_1\"\n",
      "_________________________________________________________________\n",
      "Layer (type)                 Output Shape              Param #   \n",
      "=================================================================\n",
      "lstm_1 (LSTM)                (None, 60, 100)           40800     \n",
      "_________________________________________________________________\n",
      "lstm_2 (LSTM)                (None, 100)               80400     \n",
      "_________________________________________________________________\n",
      "dense_1 (Dense)              (None, 25)                2525      \n",
      "_________________________________________________________________\n",
      "dense_2 (Dense)              (None, 1)                 26        \n",
      "=================================================================\n",
      "Total params: 123,751\n",
      "Trainable params: 123,751\n",
      "Non-trainable params: 0\n",
      "_________________________________________________________________\n"
     ]
    }
   ],
   "source": [
    "import matplotlib.pyplot as plt\n",
    "import tensorflow as tf\n",
    "from tensorflow import keras\n",
    "from tensorflow.keras import layers\n",
    "model = keras.Sequential()\n",
    "model.add(layers.LSTM(100, return_sequences=True, input_shape=(x_train.shape[1], 1)))\n",
    "model.add(layers.LSTM(100, return_sequences=False))\n",
    "model.add(layers.Dense(25))\n",
    "model.add(layers.Dense(1))\n",
    "model.summary()\n"
   ]
  },
  {
   "cell_type": "code",
   "execution_count": 31,
   "id": "3b43f7b1",
   "metadata": {
    "execution": {
     "iopub.execute_input": "2022-11-25T18:52:41.706015Z",
     "iopub.status.busy": "2022-11-25T18:52:41.704949Z",
     "iopub.status.idle": "2022-11-25T19:05:21.868741Z",
     "shell.execute_reply": "2022-11-25T19:05:21.867515Z"
    },
    "id": "SjkylxTuX0V3",
    "papermill": {
     "duration": 762.930466,
     "end_time": "2022-11-25T19:05:21.870986",
     "exception": false,
     "start_time": "2022-11-25T18:52:38.940520",
     "status": "completed"
    },
    "tags": []
   },
   "outputs": [
    {
     "name": "stdout",
     "output_type": "stream",
     "text": [
      "Epoch 1/3\n",
      "5808/5808 [==============================] - 251s 43ms/step - loss: 1.7272e-04\n",
      "Epoch 2/3\n",
      "5808/5808 [==============================] - 254s 44ms/step - loss: 8.3738e-05\n",
      "Epoch 3/3\n",
      "5808/5808 [==============================] - 255s 44ms/step - loss: 7.2780e-05\n"
     ]
    },
    {
     "data": {
      "text/plain": [
       "<keras.callbacks.History at 0x7fa3216325d0>"
      ]
     },
     "execution_count": 31,
     "metadata": {},
     "output_type": "execute_result"
    }
   ],
   "source": [
    "# Training model\n",
    "model.compile(optimizer='adam', loss='mean_squared_error')\n",
    "model.fit(x_train, y_train, batch_size= 1, epochs=3)"
   ]
  },
  {
   "cell_type": "markdown",
   "id": "d5e053e6",
   "metadata": {
    "id": "jD2kqVKue-Il",
    "papermill": {
     "duration": 3.294813,
     "end_time": "2022-11-25T19:05:28.527453",
     "exception": false,
     "start_time": "2022-11-25T19:05:25.232640",
     "status": "completed"
    },
    "tags": []
   },
   "source": [
    "### **Calculating RMS**"
   ]
  },
  {
   "cell_type": "code",
   "execution_count": 32,
   "id": "3a52c216",
   "metadata": {
    "execution": {
     "iopub.execute_input": "2022-11-25T19:05:35.161742Z",
     "iopub.status.busy": "2022-11-25T19:05:35.161322Z",
     "iopub.status.idle": "2022-11-25T19:05:37.288696Z",
     "shell.execute_reply": "2022-11-25T19:05:37.287268Z"
    },
    "id": "w9sqmvNTX9Jx",
    "papermill": {
     "duration": 5.399068,
     "end_time": "2022-11-25T19:05:37.291315",
     "exception": false,
     "start_time": "2022-11-25T19:05:31.892247",
     "status": "completed"
    },
    "tags": []
   },
   "outputs": [
    {
     "data": {
      "text/plain": [
       "1.4131684553405015"
      ]
     },
     "execution_count": 32,
     "metadata": {},
     "output_type": "execute_result"
    }
   ],
   "source": [
    "# Calculating RMSE\n",
    "predictions = model.predict(x_test)\n",
    "predictions = scaler.inverse_transform(predictions)\n",
    "rmse = np.sqrt(np.mean(predictions - y_test)**2)\n",
    "rmse "
   ]
  },
  {
   "cell_type": "markdown",
   "id": "1371871e",
   "metadata": {
    "id": "yHyDl1sDfI4g",
    "papermill": {
     "duration": 3.452272,
     "end_time": "2022-11-25T19:05:44.127748",
     "exception": false,
     "start_time": "2022-11-25T19:05:40.675476",
     "status": "completed"
    },
    "tags": []
   },
   "source": [
    "### **A Complete Visualization with LSTM**"
   ]
  },
  {
   "cell_type": "code",
   "execution_count": 33,
   "id": "a55b7c98",
   "metadata": {
    "execution": {
     "iopub.execute_input": "2022-11-25T19:05:50.773440Z",
     "iopub.status.busy": "2022-11-25T19:05:50.772646Z",
     "iopub.status.idle": "2022-11-25T19:05:51.028761Z",
     "shell.execute_reply": "2022-11-25T19:05:51.027743Z"
    },
    "id": "F2dLlcTxX96C",
    "papermill": {
     "duration": 3.557033,
     "end_time": "2022-11-25T19:05:51.031157",
     "exception": false,
     "start_time": "2022-11-25T19:05:47.474124",
     "status": "completed"
    },
    "tags": []
   },
   "outputs": [
    {
     "name": "stderr",
     "output_type": "stream",
     "text": [
      "/opt/conda/lib/python3.7/site-packages/ipykernel_launcher.py:5: SettingWithCopyWarning: \n",
      "A value is trying to be set on a copy of a slice from a DataFrame.\n",
      "Try using .loc[row_indexer,col_indexer] = value instead\n",
      "\n",
      "See the caveats in the documentation: https://pandas.pydata.org/pandas-docs/stable/user_guide/indexing.html#returning-a-view-versus-a-copy\n",
      "  \"\"\"\n"
     ]
    },
    {
     "data": {
      "image/png": "[encoded data removed]",
      "text/plain": [
       "<Figure size 1008x720 with 1 Axes>"
      ]
     },
     "metadata": {
      "needs_background": "light"
     },
     "output_type": "display_data"
    }
   ],
   "source": [
    "# Plotting complete visualization including training and testing\n",
    "data = df_final.filter(['Close'])\n",
    "train = data[:training_data_len]\n",
    "validation = data[training_data_len:]\n",
    "validation['Predictions'] = predictions\n",
    "plt.figure(figsize=(14,10))\n",
    "plt.title('Model')\n",
    "plt.xlabel('Date')\n",
    "plt.ylabel('Close Price')\n",
    "plt.plot(train)\n",
    "plt.plot(validation[['Close', 'Predictions']])\n",
    "plt.legend(['Train', 'Val', 'Predictions'], loc='lower right')\n",
    "plt.show()"
   ]
  },
  {
   "cell_type": "markdown",
   "id": "775aa51f",
   "metadata": {
    "id": "eaQEhhclTjfP",
    "papermill": {
     "duration": 3.390983,
     "end_time": "2022-11-25T19:05:57.826749",
     "exception": false,
     "start_time": "2022-11-25T19:05:54.435766",
     "status": "completed"
    },
    "tags": []
   },
   "source": [
    "### **Converting Prediction data into CSV**\n",
    "In this step I have made the prediction of test data and will convert the dataframe to csv so that we can see the price difference between actual and predicted price."
   ]
  },
  {
   "cell_type": "code",
   "execution_count": 34,
   "id": "9a92bb76",
   "metadata": {
    "execution": {
     "iopub.execute_input": "2022-11-25T19:06:04.404995Z",
     "iopub.status.busy": "2022-11-25T19:06:04.404208Z",
     "iopub.status.idle": "2022-11-25T19:06:04.947128Z",
     "shell.execute_reply": "2022-11-25T19:06:04.946147Z"
    },
    "id": "C9a__IBXPkX2",
    "papermill": {
     "duration": 3.808108,
     "end_time": "2022-11-25T19:06:04.949725",
     "exception": false,
     "start_time": "2022-11-25T19:06:01.141617",
     "status": "completed"
    },
    "tags": []
   },
   "outputs": [],
   "source": [
    "# saving predicted data into excel file\n",
    "col1 = pd.DataFrame(y_test, columns=['True'])\n",
    "col2 = pd.DataFrame(y_pred_test_LSTM, columns=['LSTM_prediction'])\n",
    "col3 = pd.DataFrame(history_model_lstm.history['loss'], columns=['Loss_LSTM'])\n",
    "results = pd.concat([col1, col2, col3], axis=1)\n",
    "results.to_excel('PredictionResultsUsingLSTM.xlsx')"
   ]
  },
  {
   "cell_type": "markdown",
   "id": "d2734194",
   "metadata": {
    "papermill": {
     "duration": 3.435519,
     "end_time": "2022-11-25T19:06:11.767874",
     "exception": false,
     "start_time": "2022-11-25T19:06:08.332355",
     "status": "completed"
    },
    "tags": []
   },
   "source": [
    "## **Comparison based on Datasets**\n",
    "\n",
    "Lets apply the algorithm on Apple dataset and see the results by just uncommenting the apple data-set line."
   ]
  },
  {
   "cell_type": "markdown",
   "id": "00ba8788",
   "metadata": {
    "id": "GtXZHh1cYPwk",
    "papermill": {
     "duration": 3.289215,
     "end_time": "2022-11-25T19:06:18.421564",
     "exception": false,
     "start_time": "2022-11-25T19:06:15.132349",
     "status": "completed"
    },
    "tags": []
   },
   "source": [
    "### **Conclusion**\n",
    "Because there are so many variables that might influence stock prices, it is hard to develop a model that can accurately predict the price by 99% of the time. We cannot therefore expect a perfect model, but the general trend of the anticipated price is consistent with the observed data, allowing the trader to use an indication and make his or her own trading decisions.\n",
    "\n",
    "By adding more epochs, experimenting with various activation functions, or even altering the model's structure, we can further increase the model's accuracy."
   ]
  }
 ],
 "metadata": {
  "kernelspec": {
   "display_name": "Python 3",
   "language": "python",
   "name": "python3"
  },
  "language_info": {
   "codemirror_mode": {
    "name": "ipython",
    "version": 3
   },
   "file_extension": ".py",
   "mimetype": "text/x-python",
   "name": "python",
   "nbconvert_exporter": "python",
   "pygments_lexer": "ipython3",
   "version": "3.7.12"
  },
  "papermill": {
   "default_parameters": {},
   "duration": 3090.061083,
   "end_time": "2022-11-25T19:06:24.576105",
   "environment_variables": {},
   "exception": null,
   "input_path": "__notebook__.ipynb",
   "output_path": "__notebook__.ipynb",
   "parameters": {},
   "start_time": "2022-11-25T18:14:54.515022",
   "version": "2.3.4"
  }
 },
 "nbformat": 4,
 "nbformat_minor": 5
}
